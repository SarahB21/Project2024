{
 "cells": [
  {
   "cell_type": "markdown",
   "id": "86ec3cce-20cf-4a2a-9306-d9db158a7bdb",
   "metadata": {},
   "source": [
    "<b id=\"Top\"> </b>  \n",
    "\n",
    "1. [Relevant libraries](#1)\n",
    "2. [dtypes & info](#2)\n",
    "3. [Noisy data](#3)\n",
    "4. [conditional selection](#4)\n",
    "\n",
    "\n",
    "---"
   ]
  },
  {
   "cell_type": "markdown",
   "id": "7505f3ba-5a6b-41c5-afb9-d2fa598a5dad",
   "metadata": {},
   "source": [
    "#### Information on the data\n",
    "The target of our project is ... <br>taken from [Kaggle](https://www.kaggle.com/datasets/sazidthe1/nobel-prize-data)"
   ]
  },
  {
   "cell_type": "code",
   "execution_count": 1,
   "id": "bc092863-bf94-452e-82c8-ea6b7c1425dd",
   "metadata": {
    "tags": []
   },
   "outputs": [],
   "source": [
    "#!pip install geopandas\n",
    "#!pip install folium\n",
    "import pandas as pd\n",
    "import seaborn as sns\n",
    "import geopandas as gpd\n",
    "import matplotlib.pyplot as plt\n",
    "import numpy as np\n",
    "import requests\n",
    "from IPython.display import Image\n"
   ]
  },
  {
   "cell_type": "code",
   "execution_count": 2,
   "id": "fd48c53f-0a18-47e5-8023-fd574f31d4be",
   "metadata": {
    "tags": []
   },
   "outputs": [
    {
     "data": {
      "text/html": [
       "<div>\n",
       "<style scoped>\n",
       "    .dataframe tbody tr th:only-of-type {\n",
       "        vertical-align: middle;\n",
       "    }\n",
       "\n",
       "    .dataframe tbody tr th {\n",
       "        vertical-align: top;\n",
       "    }\n",
       "\n",
       "    .dataframe thead th {\n",
       "        text-align: right;\n",
       "    }\n",
       "</style>\n",
       "<table border=\"1\" class=\"dataframe\">\n",
       "  <thead>\n",
       "    <tr style=\"text-align: right;\">\n",
       "      <th></th>\n",
       "      <th>year</th>\n",
       "      <th>category</th>\n",
       "      <th>motivation</th>\n",
       "      <th>prizeShare</th>\n",
       "      <th>laureateID</th>\n",
       "      <th>fullName</th>\n",
       "      <th>gender</th>\n",
       "      <th>born</th>\n",
       "      <th>bornCountry</th>\n",
       "      <th>bornCity</th>\n",
       "      <th>died</th>\n",
       "      <th>diedCountry</th>\n",
       "      <th>diedCity</th>\n",
       "      <th>organizationName</th>\n",
       "      <th>organizationCountry</th>\n",
       "      <th>organizationCity</th>\n",
       "    </tr>\n",
       "  </thead>\n",
       "  <tbody>\n",
       "    <tr>\n",
       "      <th>0</th>\n",
       "      <td>2023</td>\n",
       "      <td>medicine</td>\n",
       "      <td>for their discoveries concerning nucleoside ba...</td>\n",
       "      <td>2</td>\n",
       "      <td>1024</td>\n",
       "      <td>Katalin Kariko</td>\n",
       "      <td>female</td>\n",
       "      <td>17-01-1955</td>\n",
       "      <td>Hungary</td>\n",
       "      <td>Szolnok</td>\n",
       "      <td>0000-00-00</td>\n",
       "      <td>NaN</td>\n",
       "      <td>NaN</td>\n",
       "      <td>Szeged University</td>\n",
       "      <td>Hungary</td>\n",
       "      <td>Szeged</td>\n",
       "    </tr>\n",
       "    <tr>\n",
       "      <th>1</th>\n",
       "      <td>2023</td>\n",
       "      <td>economics</td>\n",
       "      <td>for having advanced our understanding of women...</td>\n",
       "      <td>1</td>\n",
       "      <td>1034</td>\n",
       "      <td>Claudia Goldin</td>\n",
       "      <td>female</td>\n",
       "      <td>1946-00-00</td>\n",
       "      <td>USA</td>\n",
       "      <td>New York NY</td>\n",
       "      <td>0000-00-00</td>\n",
       "      <td>NaN</td>\n",
       "      <td>NaN</td>\n",
       "      <td>Harvard University</td>\n",
       "      <td>USA</td>\n",
       "      <td>Cambridge MA</td>\n",
       "    </tr>\n",
       "    <tr>\n",
       "      <th>2</th>\n",
       "      <td>2023</td>\n",
       "      <td>peace</td>\n",
       "      <td>for her fight against the oppression of women ...</td>\n",
       "      <td>1</td>\n",
       "      <td>1033</td>\n",
       "      <td>Narges Mohammadi</td>\n",
       "      <td>female</td>\n",
       "      <td>21-04-1972</td>\n",
       "      <td>Iran</td>\n",
       "      <td>Zanjan</td>\n",
       "      <td>0000-00-00</td>\n",
       "      <td>NaN</td>\n",
       "      <td>NaN</td>\n",
       "      <td>NaN</td>\n",
       "      <td>NaN</td>\n",
       "      <td>NaN</td>\n",
       "    </tr>\n",
       "    <tr>\n",
       "      <th>3</th>\n",
       "      <td>2023</td>\n",
       "      <td>literature</td>\n",
       "      <td>for his innovative plays and prose which give ...</td>\n",
       "      <td>1</td>\n",
       "      <td>1032</td>\n",
       "      <td>Jon Fosse</td>\n",
       "      <td>male</td>\n",
       "      <td>29-09-1959</td>\n",
       "      <td>Norway</td>\n",
       "      <td>Haugesund</td>\n",
       "      <td>0000-00-00</td>\n",
       "      <td>NaN</td>\n",
       "      <td>NaN</td>\n",
       "      <td>NaN</td>\n",
       "      <td>NaN</td>\n",
       "      <td>NaN</td>\n",
       "    </tr>\n",
       "    <tr>\n",
       "      <th>4</th>\n",
       "      <td>2023</td>\n",
       "      <td>chemistry</td>\n",
       "      <td>for the discovery and synthesis of quantum dots</td>\n",
       "      <td>3</td>\n",
       "      <td>1031</td>\n",
       "      <td>Alexei Ekimov</td>\n",
       "      <td>male</td>\n",
       "      <td>1945-00-00</td>\n",
       "      <td>Russia</td>\n",
       "      <td>NaN</td>\n",
       "      <td>0000-00-00</td>\n",
       "      <td>NaN</td>\n",
       "      <td>NaN</td>\n",
       "      <td>Nanocrystals Technology Inc.</td>\n",
       "      <td>USA</td>\n",
       "      <td>New York NY</td>\n",
       "    </tr>\n",
       "  </tbody>\n",
       "</table>\n",
       "</div>"
      ],
      "text/plain": [
       "   year    category                                         motivation  \\\n",
       "0  2023    medicine  for their discoveries concerning nucleoside ba...   \n",
       "1  2023   economics  for having advanced our understanding of women...   \n",
       "2  2023       peace  for her fight against the oppression of women ...   \n",
       "3  2023  literature  for his innovative plays and prose which give ...   \n",
       "4  2023   chemistry    for the discovery and synthesis of quantum dots   \n",
       "\n",
       "   prizeShare  laureateID          fullName  gender        born bornCountry  \\\n",
       "0           2        1024    Katalin Kariko  female  17-01-1955     Hungary   \n",
       "1           1        1034    Claudia Goldin  female  1946-00-00         USA   \n",
       "2           1        1033  Narges Mohammadi  female  21-04-1972        Iran   \n",
       "3           1        1032         Jon Fosse    male  29-09-1959      Norway   \n",
       "4           3        1031     Alexei Ekimov    male  1945-00-00      Russia   \n",
       "\n",
       "      bornCity        died diedCountry diedCity              organizationName  \\\n",
       "0      Szolnok  0000-00-00         NaN      NaN             Szeged University   \n",
       "1  New York NY  0000-00-00         NaN      NaN            Harvard University   \n",
       "2       Zanjan  0000-00-00         NaN      NaN                           NaN   \n",
       "3    Haugesund  0000-00-00         NaN      NaN                           NaN   \n",
       "4          NaN  0000-00-00         NaN      NaN  Nanocrystals Technology Inc.   \n",
       "\n",
       "  organizationCountry organizationCity  \n",
       "0             Hungary           Szeged  \n",
       "1                 USA     Cambridge MA  \n",
       "2                 NaN              NaN  \n",
       "3                 NaN              NaN  \n",
       "4                 USA      New York NY  "
      ]
     },
     "execution_count": 2,
     "metadata": {},
     "output_type": "execute_result"
    }
   ],
   "source": [
    "url = 'https://raw.githubusercontent.com/SarahB21/Project2024/main/nobel_laureates_data.csv'\n",
    "nobel_data = pd.read_csv(url)\n",
    "nobel_data.head()"
   ]
  },
  {
   "cell_type": "code",
   "execution_count": 3,
   "id": "af6917da-848f-484c-b86f-dfd16ec504ca",
   "metadata": {
    "tags": []
   },
   "outputs": [
    {
     "data": {
      "text/plain": [
       "(1000, 16)"
      ]
     },
     "execution_count": 3,
     "metadata": {},
     "output_type": "execute_result"
    }
   ],
   "source": [
    "url = 'https://raw.githubusercontent.com/SarahB21/Project2024/main/nobel_laureates_data.csv'\n",
    "nobel_data = pd.read_csv(url)\n",
    "nobel_data.shape"
   ]
  },
  {
   "cell_type": "code",
   "execution_count": 4,
   "id": "cb14867a-5410-4119-9f5d-d34519325c44",
   "metadata": {
    "tags": []
   },
   "outputs": [
    {
     "data": {
      "text/plain": [
       "Index(['year', 'category', 'motivation', 'prizeShare', 'laureateID',\n",
       "       'fullName', 'gender', 'born', 'bornCountry', 'bornCity', 'died',\n",
       "       'diedCountry', 'diedCity', 'organizationName', 'organizationCountry',\n",
       "       'organizationCity'],\n",
       "      dtype='object')"
      ]
     },
     "execution_count": 4,
     "metadata": {},
     "output_type": "execute_result"
    }
   ],
   "source": [
    "nobel_data.columns"
   ]
  },
  {
   "cell_type": "code",
   "execution_count": 5,
   "id": "ef85c5c9-dcc6-433d-912d-2a830f4ae2ed",
   "metadata": {
    "tags": []
   },
   "outputs": [
    {
     "name": "stdout",
     "output_type": "stream",
     "text": [
      "['medicine' 'economics' 'peace' 'literature' 'chemistry' 'physics']\n"
     ]
    }
   ],
   "source": [
    "category_unique = nobel_data['category'].unique()\n",
    "print(category_unique)\n"
   ]
  },
  {
   "cell_type": "code",
   "execution_count": 6,
   "id": "8128246e-e88a-4911-b6b7-1b9ca6ba4f3b",
   "metadata": {
    "tags": []
   },
   "outputs": [
    {
     "data": {
      "text/plain": [
       "(1000, 16)"
      ]
     },
     "execution_count": 6,
     "metadata": {},
     "output_type": "execute_result"
    }
   ],
   "source": [
    "nobel_data.drop_duplicates(subset=['year', 'category', 'motivation', 'prizeShare', 'laureateID',\n",
    "       'fullName', 'gender', 'born', 'bornCountry', 'bornCity', 'died',\n",
    "       'diedCountry', 'diedCity', 'organizationName', 'organizationCountry',\n",
    "       'organizationCity'], inplace=True)\n",
    "nobel_data.shape"
   ]
  },
  {
   "cell_type": "code",
   "execution_count": 7,
   "id": "088210e8-04e6-4c9b-9701-564a578dfeed",
   "metadata": {
    "tags": []
   },
   "outputs": [],
   "source": [
    "nobel_data.rename(columns=lambda x: x.capitalize(), inplace=True)\n"
   ]
  },
  {
   "cell_type": "code",
   "execution_count": 8,
   "id": "2c44f462-d306-4c37-b12c-b08a53cc9d9f",
   "metadata": {
    "tags": []
   },
   "outputs": [
    {
     "data": {
      "text/html": [
       "<div>\n",
       "<style scoped>\n",
       "    .dataframe tbody tr th:only-of-type {\n",
       "        vertical-align: middle;\n",
       "    }\n",
       "\n",
       "    .dataframe tbody tr th {\n",
       "        vertical-align: top;\n",
       "    }\n",
       "\n",
       "    .dataframe thead th {\n",
       "        text-align: right;\n",
       "    }\n",
       "</style>\n",
       "<table border=\"1\" class=\"dataframe\">\n",
       "  <thead>\n",
       "    <tr style=\"text-align: right;\">\n",
       "      <th></th>\n",
       "      <th>Year</th>\n",
       "      <th>Category</th>\n",
       "      <th>Motivation</th>\n",
       "      <th>Prizeshare</th>\n",
       "      <th>Laureateid</th>\n",
       "      <th>Fullname</th>\n",
       "      <th>Gender</th>\n",
       "      <th>Born</th>\n",
       "      <th>Borncountry</th>\n",
       "      <th>Borncity</th>\n",
       "      <th>Died</th>\n",
       "      <th>Diedcountry</th>\n",
       "      <th>Diedcity</th>\n",
       "      <th>Organizationname</th>\n",
       "      <th>Organizationcountry</th>\n",
       "      <th>Organizationcity</th>\n",
       "    </tr>\n",
       "  </thead>\n",
       "  <tbody>\n",
       "    <tr>\n",
       "      <th>0</th>\n",
       "      <td>2023</td>\n",
       "      <td>medicine</td>\n",
       "      <td>for their discoveries concerning nucleoside ba...</td>\n",
       "      <td>2</td>\n",
       "      <td>1024</td>\n",
       "      <td>Katalin Kariko</td>\n",
       "      <td>female</td>\n",
       "      <td>17-01-1955</td>\n",
       "      <td>Hungary</td>\n",
       "      <td>Szolnok</td>\n",
       "      <td>0000-00-00</td>\n",
       "      <td>NaN</td>\n",
       "      <td>NaN</td>\n",
       "      <td>Szeged University</td>\n",
       "      <td>Hungary</td>\n",
       "      <td>Szeged</td>\n",
       "    </tr>\n",
       "    <tr>\n",
       "      <th>1</th>\n",
       "      <td>2023</td>\n",
       "      <td>economics</td>\n",
       "      <td>for having advanced our understanding of women...</td>\n",
       "      <td>1</td>\n",
       "      <td>1034</td>\n",
       "      <td>Claudia Goldin</td>\n",
       "      <td>female</td>\n",
       "      <td>1946-00-00</td>\n",
       "      <td>USA</td>\n",
       "      <td>New York NY</td>\n",
       "      <td>0000-00-00</td>\n",
       "      <td>NaN</td>\n",
       "      <td>NaN</td>\n",
       "      <td>Harvard University</td>\n",
       "      <td>USA</td>\n",
       "      <td>Cambridge MA</td>\n",
       "    </tr>\n",
       "  </tbody>\n",
       "</table>\n",
       "</div>"
      ],
      "text/plain": [
       "   Year   Category                                         Motivation  \\\n",
       "0  2023   medicine  for their discoveries concerning nucleoside ba...   \n",
       "1  2023  economics  for having advanced our understanding of women...   \n",
       "\n",
       "   Prizeshare  Laureateid        Fullname  Gender        Born Borncountry  \\\n",
       "0           2        1024  Katalin Kariko  female  17-01-1955     Hungary   \n",
       "1           1        1034  Claudia Goldin  female  1946-00-00         USA   \n",
       "\n",
       "      Borncity        Died Diedcountry Diedcity    Organizationname  \\\n",
       "0      Szolnok  0000-00-00         NaN      NaN   Szeged University   \n",
       "1  New York NY  0000-00-00         NaN      NaN  Harvard University   \n",
       "\n",
       "  Organizationcountry Organizationcity  \n",
       "0             Hungary           Szeged  \n",
       "1                 USA     Cambridge MA  "
      ]
     },
     "execution_count": 8,
     "metadata": {},
     "output_type": "execute_result"
    }
   ],
   "source": [
    "nobel_data.head(2)"
   ]
  },
  {
   "cell_type": "markdown",
   "id": "275526d7-193f-405d-8086-cad42fedc59a",
   "metadata": {},
   "source": [
    "### 1. Wrangling data"
   ]
  },
  {
   "cell_type": "code",
   "execution_count": 9,
   "id": "2e776369-5a50-4b16-aaaf-da38a5f52a20",
   "metadata": {
    "tags": []
   },
   "outputs": [
    {
     "data": {
      "text/plain": [
       "Index(['Year', 'Category', 'Motivation', 'Prizeshare', 'Laureateid',\n",
       "       'Fullname', 'Gender', 'Born', 'Borncountry', 'Borncity', 'Died',\n",
       "       'Diedcountry', 'Diedcity', 'Organizationname', 'Organizationcountry',\n",
       "       'Organizationcity'],\n",
       "      dtype='object')"
      ]
     },
     "execution_count": 9,
     "metadata": {},
     "output_type": "execute_result"
    }
   ],
   "source": [
    "nobel_data.columns"
   ]
  },
  {
   "cell_type": "code",
   "execution_count": 10,
   "id": "f0ad47ce-a79d-469e-b496-e8256cd770c0",
   "metadata": {
    "tags": []
   },
   "outputs": [
    {
     "data": {
      "text/plain": [
       "Year                     0\n",
       "Category                 0\n",
       "Motivation               0\n",
       "Prizeshare               0\n",
       "Laureateid               0\n",
       "Fullname                 0\n",
       "Gender                   0\n",
       "Born                     0\n",
       "Borncountry             30\n",
       "Borncity                34\n",
       "Died                    30\n",
       "Diedcountry            348\n",
       "Diedcity               354\n",
       "Organizationname       264\n",
       "Organizationcountry    267\n",
       "Organizationcity       269\n",
       "dtype: int64"
      ]
     },
     "execution_count": 10,
     "metadata": {},
     "output_type": "execute_result"
    }
   ],
   "source": [
    "nobel_data.isnull().sum()"
   ]
  },
  {
   "cell_type": "code",
   "execution_count": 11,
   "id": "0424645c-65a8-41b0-bee2-9184cd983c54",
   "metadata": {
    "tags": []
   },
   "outputs": [
    {
     "data": {
      "text/plain": [
       "Year                    int64\n",
       "Category               object\n",
       "Motivation             object\n",
       "Prizeshare              int64\n",
       "Laureateid              int64\n",
       "Fullname               object\n",
       "Gender                 object\n",
       "Born                   object\n",
       "Borncountry            object\n",
       "Borncity               object\n",
       "Died                   object\n",
       "Diedcountry            object\n",
       "Diedcity               object\n",
       "Organizationname       object\n",
       "Organizationcountry    object\n",
       "Organizationcity       object\n",
       "dtype: object"
      ]
     },
     "execution_count": 11,
     "metadata": {},
     "output_type": "execute_result"
    }
   ],
   "source": [
    "# nobel_data['Gender'] = nobel_data['Gender'].replace('org', 'organization')\n",
    "nobel_data['Died'].fillna('UNREPORTED', inplace=True)\n",
    "nobel_data['Borncountry'].fillna('UNREPORTED', inplace=True)\n",
    "nobel_data['Borncity'].fillna('UNREPORTED', inplace=True)\n",
    "nobel_data['Diedcountry'].fillna('UNREPORTED', inplace=True)\n",
    "nobel_data['Diedcity'].fillna('UNREPORTED', inplace=True)\n",
    "nobel_data['Organizationname'].fillna('UNREPORTED', inplace=True)\n",
    "nobel_data['Organizationcountry'].fillna('UNREPORTED', inplace=True)\n",
    "nobel_data['Organizationcity'].fillna('UNREPORTED', inplace=True)\n",
    " \n",
    "nobel_data.dtypes"
   ]
  },
  {
   "cell_type": "code",
   "execution_count": 12,
   "id": "124acf09-56a0-4b1a-9cff-08b5b4f44d8e",
   "metadata": {
    "tags": []
   },
   "outputs": [
    {
     "name": "stdout",
     "output_type": "stream",
     "text": [
      "['female' 'male' 'org']\n"
     ]
    }
   ],
   "source": [
    "gender_new = nobel_data['Gender'].unique()\n",
    "print(gender_new)"
   ]
  },
  {
   "cell_type": "code",
   "execution_count": 25,
   "id": "c71b2ad7-5493-4336-b342-554d8cf47b7d",
   "metadata": {
    "tags": []
   },
   "outputs": [
    {
     "name": "stdout",
     "output_type": "stream",
     "text": [
      "['female' 'male' 'org']\n"
     ]
    }
   ],
   "source": [
    "gender_unique = nobel_data['Gender'].unique()\n",
    "print(gender_unique)"
   ]
  },
  {
   "cell_type": "code",
   "execution_count": 27,
   "id": "eea302ff-206c-4447-b3c3-7cf90827e0dd",
   "metadata": {
    "tags": []
   },
   "outputs": [
    {
     "data": {
      "text/html": [
       "<div>\n",
       "<style scoped>\n",
       "    .dataframe tbody tr th:only-of-type {\n",
       "        vertical-align: middle;\n",
       "    }\n",
       "\n",
       "    .dataframe tbody tr th {\n",
       "        vertical-align: top;\n",
       "    }\n",
       "\n",
       "    .dataframe thead th {\n",
       "        text-align: right;\n",
       "    }\n",
       "</style>\n",
       "<table border=\"1\" class=\"dataframe\">\n",
       "  <thead>\n",
       "    <tr style=\"text-align: right;\">\n",
       "      <th></th>\n",
       "      <th>Year</th>\n",
       "      <th>Category</th>\n",
       "      <th>Motivation</th>\n",
       "      <th>Prizeshare</th>\n",
       "      <th>Laureateid</th>\n",
       "      <th>Fullname</th>\n",
       "      <th>Gender</th>\n",
       "      <th>Born</th>\n",
       "      <th>Borncountry</th>\n",
       "      <th>Borncity</th>\n",
       "      <th>Died</th>\n",
       "      <th>Diedcountry</th>\n",
       "      <th>Diedcity</th>\n",
       "      <th>Organizationname</th>\n",
       "      <th>Organizationcountry</th>\n",
       "      <th>Organizationcity</th>\n",
       "    </tr>\n",
       "  </thead>\n",
       "  <tbody>\n",
       "    <tr>\n",
       "      <th>16</th>\n",
       "      <td>2022</td>\n",
       "      <td>peace</td>\n",
       "      <td>The Peace Prize laureates represent civil soci...</td>\n",
       "      <td>3</td>\n",
       "      <td>1020</td>\n",
       "      <td>Center for Civil Liberties</td>\n",
       "      <td>org</td>\n",
       "      <td>2007-00-00</td>\n",
       "      <td>UNREPORTED</td>\n",
       "      <td>UNREPORTED</td>\n",
       "      <td>UNREPORTED</td>\n",
       "      <td>UNREPORTED</td>\n",
       "      <td>UNREPORTED</td>\n",
       "      <td>UNREPORTED</td>\n",
       "      <td>UNREPORTED</td>\n",
       "      <td>UNREPORTED</td>\n",
       "    </tr>\n",
       "    <tr>\n",
       "      <th>17</th>\n",
       "      <td>2022</td>\n",
       "      <td>peace</td>\n",
       "      <td>The Peace Prize laureates represent civil soci...</td>\n",
       "      <td>3</td>\n",
       "      <td>1019</td>\n",
       "      <td>Memorial</td>\n",
       "      <td>org</td>\n",
       "      <td>1987-00-00</td>\n",
       "      <td>UNREPORTED</td>\n",
       "      <td>UNREPORTED</td>\n",
       "      <td>UNREPORTED</td>\n",
       "      <td>UNREPORTED</td>\n",
       "      <td>UNREPORTED</td>\n",
       "      <td>UNREPORTED</td>\n",
       "      <td>UNREPORTED</td>\n",
       "      <td>UNREPORTED</td>\n",
       "    </tr>\n",
       "    <tr>\n",
       "      <th>41</th>\n",
       "      <td>2020</td>\n",
       "      <td>peace</td>\n",
       "      <td>for its efforts to combat hunger for its contr...</td>\n",
       "      <td>1</td>\n",
       "      <td>994</td>\n",
       "      <td>World Food Programme</td>\n",
       "      <td>org</td>\n",
       "      <td>1961-00-00</td>\n",
       "      <td>UNREPORTED</td>\n",
       "      <td>UNREPORTED</td>\n",
       "      <td>UNREPORTED</td>\n",
       "      <td>UNREPORTED</td>\n",
       "      <td>UNREPORTED</td>\n",
       "      <td>UNREPORTED</td>\n",
       "      <td>UNREPORTED</td>\n",
       "      <td>UNREPORTED</td>\n",
       "    </tr>\n",
       "    <tr>\n",
       "      <th>78</th>\n",
       "      <td>2017</td>\n",
       "      <td>peace</td>\n",
       "      <td>for its work to draw attention to the catastro...</td>\n",
       "      <td>1</td>\n",
       "      <td>948</td>\n",
       "      <td>International Campaign to Abolish Nuclear Weap...</td>\n",
       "      <td>org</td>\n",
       "      <td>2007-00-00</td>\n",
       "      <td>UNREPORTED</td>\n",
       "      <td>UNREPORTED</td>\n",
       "      <td>UNREPORTED</td>\n",
       "      <td>UNREPORTED</td>\n",
       "      <td>UNREPORTED</td>\n",
       "      <td>UNREPORTED</td>\n",
       "      <td>UNREPORTED</td>\n",
       "      <td>UNREPORTED</td>\n",
       "    </tr>\n",
       "    <tr>\n",
       "      <th>102</th>\n",
       "      <td>2015</td>\n",
       "      <td>peace</td>\n",
       "      <td>for its decisive contribution to the building ...</td>\n",
       "      <td>1</td>\n",
       "      <td>925</td>\n",
       "      <td>National Dialogue Quartet</td>\n",
       "      <td>org</td>\n",
       "      <td>13-07-2013</td>\n",
       "      <td>UNREPORTED</td>\n",
       "      <td>UNREPORTED</td>\n",
       "      <td>UNREPORTED</td>\n",
       "      <td>UNREPORTED</td>\n",
       "      <td>UNREPORTED</td>\n",
       "      <td>UNREPORTED</td>\n",
       "      <td>UNREPORTED</td>\n",
       "      <td>UNREPORTED</td>\n",
       "    </tr>\n",
       "    <tr>\n",
       "      <th>130</th>\n",
       "      <td>2013</td>\n",
       "      <td>peace</td>\n",
       "      <td>for its extensive efforts to eliminate chemica...</td>\n",
       "      <td>1</td>\n",
       "      <td>893</td>\n",
       "      <td>Organisation for the Prohibition of Chemical W...</td>\n",
       "      <td>org</td>\n",
       "      <td>1997-00-00</td>\n",
       "      <td>UNREPORTED</td>\n",
       "      <td>UNREPORTED</td>\n",
       "      <td>UNREPORTED</td>\n",
       "      <td>UNREPORTED</td>\n",
       "      <td>UNREPORTED</td>\n",
       "      <td>UNREPORTED</td>\n",
       "      <td>UNREPORTED</td>\n",
       "      <td>UNREPORTED</td>\n",
       "    </tr>\n",
       "    <tr>\n",
       "      <th>140</th>\n",
       "      <td>2012</td>\n",
       "      <td>peace</td>\n",
       "      <td>for over six decades contributed to the advanc...</td>\n",
       "      <td>1</td>\n",
       "      <td>881</td>\n",
       "      <td>European Union</td>\n",
       "      <td>org</td>\n",
       "      <td>1952-00-00</td>\n",
       "      <td>UNREPORTED</td>\n",
       "      <td>UNREPORTED</td>\n",
       "      <td>UNREPORTED</td>\n",
       "      <td>UNREPORTED</td>\n",
       "      <td>UNREPORTED</td>\n",
       "      <td>UNREPORTED</td>\n",
       "      <td>UNREPORTED</td>\n",
       "      <td>UNREPORTED</td>\n",
       "    </tr>\n",
       "    <tr>\n",
       "      <th>202</th>\n",
       "      <td>2007</td>\n",
       "      <td>peace</td>\n",
       "      <td>for their efforts to build up and disseminate ...</td>\n",
       "      <td>2</td>\n",
       "      <td>818</td>\n",
       "      <td>Intergovernmental Panel on Climate Change</td>\n",
       "      <td>org</td>\n",
       "      <td>1988-00-00</td>\n",
       "      <td>UNREPORTED</td>\n",
       "      <td>UNREPORTED</td>\n",
       "      <td>UNREPORTED</td>\n",
       "      <td>UNREPORTED</td>\n",
       "      <td>UNREPORTED</td>\n",
       "      <td>UNREPORTED</td>\n",
       "      <td>UNREPORTED</td>\n",
       "      <td>UNREPORTED</td>\n",
       "    </tr>\n",
       "    <tr>\n",
       "      <th>208</th>\n",
       "      <td>2006</td>\n",
       "      <td>peace</td>\n",
       "      <td>for their efforts to create economic and socia...</td>\n",
       "      <td>2</td>\n",
       "      <td>810</td>\n",
       "      <td>Grameen Bank</td>\n",
       "      <td>org</td>\n",
       "      <td>1976-00-00</td>\n",
       "      <td>UNREPORTED</td>\n",
       "      <td>UNREPORTED</td>\n",
       "      <td>UNREPORTED</td>\n",
       "      <td>UNREPORTED</td>\n",
       "      <td>UNREPORTED</td>\n",
       "      <td>UNREPORTED</td>\n",
       "      <td>UNREPORTED</td>\n",
       "      <td>UNREPORTED</td>\n",
       "    </tr>\n",
       "    <tr>\n",
       "      <th>222</th>\n",
       "      <td>2005</td>\n",
       "      <td>peace</td>\n",
       "      <td>for their efforts to prevent nuclear energy fr...</td>\n",
       "      <td>2</td>\n",
       "      <td>797</td>\n",
       "      <td>International Atomic Energy Agency</td>\n",
       "      <td>org</td>\n",
       "      <td>1957-00-00</td>\n",
       "      <td>UNREPORTED</td>\n",
       "      <td>UNREPORTED</td>\n",
       "      <td>UNREPORTED</td>\n",
       "      <td>UNREPORTED</td>\n",
       "      <td>UNREPORTED</td>\n",
       "      <td>UNREPORTED</td>\n",
       "      <td>UNREPORTED</td>\n",
       "      <td>UNREPORTED</td>\n",
       "    </tr>\n",
       "    <tr>\n",
       "      <th>267</th>\n",
       "      <td>2001</td>\n",
       "      <td>peace</td>\n",
       "      <td>for their work for a better organized and more...</td>\n",
       "      <td>2</td>\n",
       "      <td>748</td>\n",
       "      <td>United Nations</td>\n",
       "      <td>org</td>\n",
       "      <td>1945-00-00</td>\n",
       "      <td>UNREPORTED</td>\n",
       "      <td>UNREPORTED</td>\n",
       "      <td>UNREPORTED</td>\n",
       "      <td>UNREPORTED</td>\n",
       "      <td>UNREPORTED</td>\n",
       "      <td>UNREPORTED</td>\n",
       "      <td>UNREPORTED</td>\n",
       "      <td>UNREPORTED</td>\n",
       "    </tr>\n",
       "    <tr>\n",
       "      <th>297</th>\n",
       "      <td>1999</td>\n",
       "      <td>peace</td>\n",
       "      <td>in recognition of the organisation's pioneerin...</td>\n",
       "      <td>1</td>\n",
       "      <td>568</td>\n",
       "      <td>Doctors Without Borders</td>\n",
       "      <td>org</td>\n",
       "      <td>1971-00-00</td>\n",
       "      <td>UNREPORTED</td>\n",
       "      <td>UNREPORTED</td>\n",
       "      <td>UNREPORTED</td>\n",
       "      <td>UNREPORTED</td>\n",
       "      <td>UNREPORTED</td>\n",
       "      <td>UNREPORTED</td>\n",
       "      <td>UNREPORTED</td>\n",
       "      <td>UNREPORTED</td>\n",
       "    </tr>\n",
       "    <tr>\n",
       "      <th>318</th>\n",
       "      <td>1997</td>\n",
       "      <td>peace</td>\n",
       "      <td>for their work for the banning and clearing of...</td>\n",
       "      <td>2</td>\n",
       "      <td>564</td>\n",
       "      <td>International Campaign to Ban Landmines</td>\n",
       "      <td>org</td>\n",
       "      <td>1992-00-00</td>\n",
       "      <td>UNREPORTED</td>\n",
       "      <td>UNREPORTED</td>\n",
       "      <td>UNREPORTED</td>\n",
       "      <td>UNREPORTED</td>\n",
       "      <td>UNREPORTED</td>\n",
       "      <td>UNREPORTED</td>\n",
       "      <td>UNREPORTED</td>\n",
       "      <td>UNREPORTED</td>\n",
       "    </tr>\n",
       "    <tr>\n",
       "      <th>342</th>\n",
       "      <td>1995</td>\n",
       "      <td>peace</td>\n",
       "      <td>for their efforts to diminish the part played ...</td>\n",
       "      <td>2</td>\n",
       "      <td>561</td>\n",
       "      <td>Pugwash Conferences on Science and World Affairs</td>\n",
       "      <td>org</td>\n",
       "      <td>1957-00-00</td>\n",
       "      <td>UNREPORTED</td>\n",
       "      <td>UNREPORTED</td>\n",
       "      <td>UNREPORTED</td>\n",
       "      <td>UNREPORTED</td>\n",
       "      <td>UNREPORTED</td>\n",
       "      <td>UNREPORTED</td>\n",
       "      <td>UNREPORTED</td>\n",
       "      <td>UNREPORTED</td>\n",
       "    </tr>\n",
       "    <tr>\n",
       "      <th>412</th>\n",
       "      <td>1988</td>\n",
       "      <td>peace</td>\n",
       "      <td>for preventing armed clashes and creating cond...</td>\n",
       "      <td>1</td>\n",
       "      <td>550</td>\n",
       "      <td>United Nations Peacekeeping Forces</td>\n",
       "      <td>org</td>\n",
       "      <td>1948-00-00</td>\n",
       "      <td>UNREPORTED</td>\n",
       "      <td>UNREPORTED</td>\n",
       "      <td>UNREPORTED</td>\n",
       "      <td>UNREPORTED</td>\n",
       "      <td>UNREPORTED</td>\n",
       "      <td>UNREPORTED</td>\n",
       "      <td>UNREPORTED</td>\n",
       "      <td>UNREPORTED</td>\n",
       "    </tr>\n",
       "    <tr>\n",
       "      <th>443</th>\n",
       "      <td>1985</td>\n",
       "      <td>peace</td>\n",
       "      <td>for spreading authoritative information and by...</td>\n",
       "      <td>1</td>\n",
       "      <td>547</td>\n",
       "      <td>International Physicians for the Prevention of...</td>\n",
       "      <td>org</td>\n",
       "      <td>1980-00-00</td>\n",
       "      <td>UNREPORTED</td>\n",
       "      <td>UNREPORTED</td>\n",
       "      <td>UNREPORTED</td>\n",
       "      <td>UNREPORTED</td>\n",
       "      <td>UNREPORTED</td>\n",
       "      <td>UNREPORTED</td>\n",
       "      <td>UNREPORTED</td>\n",
       "      <td>UNREPORTED</td>\n",
       "    </tr>\n",
       "    <tr>\n",
       "      <th>476</th>\n",
       "      <td>1981</td>\n",
       "      <td>peace</td>\n",
       "      <td>for promoting the fundamental rights of refugees</td>\n",
       "      <td>1</td>\n",
       "      <td>515</td>\n",
       "      <td>Office of the United Nations High Commissioner...</td>\n",
       "      <td>org</td>\n",
       "      <td>14-12-1950</td>\n",
       "      <td>UNREPORTED</td>\n",
       "      <td>UNREPORTED</td>\n",
       "      <td>UNREPORTED</td>\n",
       "      <td>UNREPORTED</td>\n",
       "      <td>UNREPORTED</td>\n",
       "      <td>UNREPORTED</td>\n",
       "      <td>UNREPORTED</td>\n",
       "      <td>UNREPORTED</td>\n",
       "    </tr>\n",
       "    <tr>\n",
       "      <th>521</th>\n",
       "      <td>1977</td>\n",
       "      <td>peace</td>\n",
       "      <td>for worldwide respect for human rights</td>\n",
       "      <td>1</td>\n",
       "      <td>537</td>\n",
       "      <td>Amnesty International</td>\n",
       "      <td>org</td>\n",
       "      <td>1961-00-00</td>\n",
       "      <td>UNREPORTED</td>\n",
       "      <td>UNREPORTED</td>\n",
       "      <td>UNREPORTED</td>\n",
       "      <td>UNREPORTED</td>\n",
       "      <td>UNREPORTED</td>\n",
       "      <td>UNREPORTED</td>\n",
       "      <td>UNREPORTED</td>\n",
       "      <td>UNREPORTED</td>\n",
       "    </tr>\n",
       "    <tr>\n",
       "      <th>602</th>\n",
       "      <td>1969</td>\n",
       "      <td>peace</td>\n",
       "      <td>for creating international legislation insurin...</td>\n",
       "      <td>1</td>\n",
       "      <td>527</td>\n",
       "      <td>International Labour Organization</td>\n",
       "      <td>org</td>\n",
       "      <td>1919-00-00</td>\n",
       "      <td>UNREPORTED</td>\n",
       "      <td>UNREPORTED</td>\n",
       "      <td>UNREPORTED</td>\n",
       "      <td>UNREPORTED</td>\n",
       "      <td>UNREPORTED</td>\n",
       "      <td>UNREPORTED</td>\n",
       "      <td>UNREPORTED</td>\n",
       "      <td>UNREPORTED</td>\n",
       "    </tr>\n",
       "    <tr>\n",
       "      <th>631</th>\n",
       "      <td>1965</td>\n",
       "      <td>peace</td>\n",
       "      <td>for its effort to enhance solidarity between n...</td>\n",
       "      <td>1</td>\n",
       "      <td>525</td>\n",
       "      <td>United Nations Children's Fund</td>\n",
       "      <td>org</td>\n",
       "      <td>1946-00-00</td>\n",
       "      <td>UNREPORTED</td>\n",
       "      <td>UNREPORTED</td>\n",
       "      <td>UNREPORTED</td>\n",
       "      <td>UNREPORTED</td>\n",
       "      <td>UNREPORTED</td>\n",
       "      <td>UNREPORTED</td>\n",
       "      <td>UNREPORTED</td>\n",
       "      <td>UNREPORTED</td>\n",
       "    </tr>\n",
       "    <tr>\n",
       "      <th>649</th>\n",
       "      <td>1963</td>\n",
       "      <td>peace</td>\n",
       "      <td>for promoting the principles of the Geneva Con...</td>\n",
       "      <td>2</td>\n",
       "      <td>523</td>\n",
       "      <td>League of Red Cross Societies</td>\n",
       "      <td>org</td>\n",
       "      <td>1919-00-00</td>\n",
       "      <td>UNREPORTED</td>\n",
       "      <td>UNREPORTED</td>\n",
       "      <td>UNREPORTED</td>\n",
       "      <td>UNREPORTED</td>\n",
       "      <td>UNREPORTED</td>\n",
       "      <td>UNREPORTED</td>\n",
       "      <td>UNREPORTED</td>\n",
       "      <td>UNREPORTED</td>\n",
       "    </tr>\n",
       "    <tr>\n",
       "      <th>650</th>\n",
       "      <td>1963</td>\n",
       "      <td>peace</td>\n",
       "      <td>for promoting the principles of the Geneva Con...</td>\n",
       "      <td>2</td>\n",
       "      <td>482</td>\n",
       "      <td>International Committee of the Red Cross</td>\n",
       "      <td>org</td>\n",
       "      <td>1863-00-00</td>\n",
       "      <td>UNREPORTED</td>\n",
       "      <td>UNREPORTED</td>\n",
       "      <td>UNREPORTED</td>\n",
       "      <td>UNREPORTED</td>\n",
       "      <td>UNREPORTED</td>\n",
       "      <td>UNREPORTED</td>\n",
       "      <td>UNREPORTED</td>\n",
       "      <td>UNREPORTED</td>\n",
       "    </tr>\n",
       "    <tr>\n",
       "      <th>715</th>\n",
       "      <td>1954</td>\n",
       "      <td>peace</td>\n",
       "      <td>for its efforts to heal the wounds of war by p...</td>\n",
       "      <td>1</td>\n",
       "      <td>515</td>\n",
       "      <td>Office of the United Nations High Commissioner...</td>\n",
       "      <td>org</td>\n",
       "      <td>14-12-1950</td>\n",
       "      <td>UNREPORTED</td>\n",
       "      <td>UNREPORTED</td>\n",
       "      <td>UNREPORTED</td>\n",
       "      <td>UNREPORTED</td>\n",
       "      <td>UNREPORTED</td>\n",
       "      <td>UNREPORTED</td>\n",
       "      <td>UNREPORTED</td>\n",
       "      <td>UNREPORTED</td>\n",
       "    </tr>\n",
       "    <tr>\n",
       "      <th>761</th>\n",
       "      <td>1947</td>\n",
       "      <td>peace</td>\n",
       "      <td>for their pioneering work in the international...</td>\n",
       "      <td>2</td>\n",
       "      <td>509</td>\n",
       "      <td>American Friends Service Committee</td>\n",
       "      <td>org</td>\n",
       "      <td>1917-00-00</td>\n",
       "      <td>UNREPORTED</td>\n",
       "      <td>UNREPORTED</td>\n",
       "      <td>UNREPORTED</td>\n",
       "      <td>UNREPORTED</td>\n",
       "      <td>UNREPORTED</td>\n",
       "      <td>UNREPORTED</td>\n",
       "      <td>UNREPORTED</td>\n",
       "      <td>UNREPORTED</td>\n",
       "    </tr>\n",
       "    <tr>\n",
       "      <th>762</th>\n",
       "      <td>1947</td>\n",
       "      <td>peace</td>\n",
       "      <td>for their pioneering work in the international...</td>\n",
       "      <td>2</td>\n",
       "      <td>508</td>\n",
       "      <td>Friends Service Council</td>\n",
       "      <td>org</td>\n",
       "      <td>1647-00-00</td>\n",
       "      <td>UNREPORTED</td>\n",
       "      <td>UNREPORTED</td>\n",
       "      <td>UNREPORTED</td>\n",
       "      <td>UNREPORTED</td>\n",
       "      <td>UNREPORTED</td>\n",
       "      <td>UNREPORTED</td>\n",
       "      <td>UNREPORTED</td>\n",
       "      <td>UNREPORTED</td>\n",
       "    </tr>\n",
       "    <tr>\n",
       "      <th>785</th>\n",
       "      <td>1944</td>\n",
       "      <td>peace</td>\n",
       "      <td>for the great work it has performed during the...</td>\n",
       "      <td>1</td>\n",
       "      <td>482</td>\n",
       "      <td>International Committee of the Red Cross</td>\n",
       "      <td>org</td>\n",
       "      <td>1863-00-00</td>\n",
       "      <td>UNREPORTED</td>\n",
       "      <td>UNREPORTED</td>\n",
       "      <td>UNREPORTED</td>\n",
       "      <td>UNREPORTED</td>\n",
       "      <td>UNREPORTED</td>\n",
       "      <td>UNREPORTED</td>\n",
       "      <td>UNREPORTED</td>\n",
       "      <td>UNREPORTED</td>\n",
       "    </tr>\n",
       "    <tr>\n",
       "      <th>800</th>\n",
       "      <td>1938</td>\n",
       "      <td>peace</td>\n",
       "      <td>for having carried on the work of Fridtjof Nan...</td>\n",
       "      <td>1</td>\n",
       "      <td>503</td>\n",
       "      <td>Nansen International Office for Refugees</td>\n",
       "      <td>org</td>\n",
       "      <td>1921-00-00</td>\n",
       "      <td>UNREPORTED</td>\n",
       "      <td>UNREPORTED</td>\n",
       "      <td>UNREPORTED</td>\n",
       "      <td>UNREPORTED</td>\n",
       "      <td>UNREPORTED</td>\n",
       "      <td>UNREPORTED</td>\n",
       "      <td>UNREPORTED</td>\n",
       "      <td>UNREPORTED</td>\n",
       "    </tr>\n",
       "    <tr>\n",
       "      <th>911</th>\n",
       "      <td>1917</td>\n",
       "      <td>peace</td>\n",
       "      <td>for the efforts to take care of wounded soldie...</td>\n",
       "      <td>1</td>\n",
       "      <td>482</td>\n",
       "      <td>International Committee of the Red Cross</td>\n",
       "      <td>org</td>\n",
       "      <td>1863-00-00</td>\n",
       "      <td>UNREPORTED</td>\n",
       "      <td>UNREPORTED</td>\n",
       "      <td>UNREPORTED</td>\n",
       "      <td>UNREPORTED</td>\n",
       "      <td>UNREPORTED</td>\n",
       "      <td>UNREPORTED</td>\n",
       "      <td>UNREPORTED</td>\n",
       "      <td>UNREPORTED</td>\n",
       "    </tr>\n",
       "    <tr>\n",
       "      <th>940</th>\n",
       "      <td>1910</td>\n",
       "      <td>peace</td>\n",
       "      <td>for acting as a link between the peace societi...</td>\n",
       "      <td>1</td>\n",
       "      <td>477</td>\n",
       "      <td>Permanent International Peace Bureau</td>\n",
       "      <td>org</td>\n",
       "      <td>1891-00-00</td>\n",
       "      <td>UNREPORTED</td>\n",
       "      <td>UNREPORTED</td>\n",
       "      <td>UNREPORTED</td>\n",
       "      <td>UNREPORTED</td>\n",
       "      <td>UNREPORTED</td>\n",
       "      <td>UNREPORTED</td>\n",
       "      <td>UNREPORTED</td>\n",
       "      <td>UNREPORTED</td>\n",
       "    </tr>\n",
       "    <tr>\n",
       "      <th>976</th>\n",
       "      <td>1904</td>\n",
       "      <td>peace</td>\n",
       "      <td>for its striving in public law to develop peac...</td>\n",
       "      <td>1</td>\n",
       "      <td>467</td>\n",
       "      <td>Institute of International Law</td>\n",
       "      <td>org</td>\n",
       "      <td>1873-00-00</td>\n",
       "      <td>UNREPORTED</td>\n",
       "      <td>UNREPORTED</td>\n",
       "      <td>UNREPORTED</td>\n",
       "      <td>UNREPORTED</td>\n",
       "      <td>UNREPORTED</td>\n",
       "      <td>UNREPORTED</td>\n",
       "      <td>UNREPORTED</td>\n",
       "      <td>UNREPORTED</td>\n",
       "    </tr>\n",
       "  </tbody>\n",
       "</table>\n",
       "</div>"
      ],
      "text/plain": [
       "     Year Category                                         Motivation  \\\n",
       "16   2022    peace  The Peace Prize laureates represent civil soci...   \n",
       "17   2022    peace  The Peace Prize laureates represent civil soci...   \n",
       "41   2020    peace  for its efforts to combat hunger for its contr...   \n",
       "78   2017    peace  for its work to draw attention to the catastro...   \n",
       "102  2015    peace  for its decisive contribution to the building ...   \n",
       "130  2013    peace  for its extensive efforts to eliminate chemica...   \n",
       "140  2012    peace  for over six decades contributed to the advanc...   \n",
       "202  2007    peace  for their efforts to build up and disseminate ...   \n",
       "208  2006    peace  for their efforts to create economic and socia...   \n",
       "222  2005    peace  for their efforts to prevent nuclear energy fr...   \n",
       "267  2001    peace  for their work for a better organized and more...   \n",
       "297  1999    peace  in recognition of the organisation's pioneerin...   \n",
       "318  1997    peace  for their work for the banning and clearing of...   \n",
       "342  1995    peace  for their efforts to diminish the part played ...   \n",
       "412  1988    peace  for preventing armed clashes and creating cond...   \n",
       "443  1985    peace  for spreading authoritative information and by...   \n",
       "476  1981    peace   for promoting the fundamental rights of refugees   \n",
       "521  1977    peace             for worldwide respect for human rights   \n",
       "602  1969    peace  for creating international legislation insurin...   \n",
       "631  1965    peace  for its effort to enhance solidarity between n...   \n",
       "649  1963    peace  for promoting the principles of the Geneva Con...   \n",
       "650  1963    peace  for promoting the principles of the Geneva Con...   \n",
       "715  1954    peace  for its efforts to heal the wounds of war by p...   \n",
       "761  1947    peace  for their pioneering work in the international...   \n",
       "762  1947    peace  for their pioneering work in the international...   \n",
       "785  1944    peace  for the great work it has performed during the...   \n",
       "800  1938    peace  for having carried on the work of Fridtjof Nan...   \n",
       "911  1917    peace  for the efforts to take care of wounded soldie...   \n",
       "940  1910    peace  for acting as a link between the peace societi...   \n",
       "976  1904    peace  for its striving in public law to develop peac...   \n",
       "\n",
       "     Prizeshare  Laureateid  \\\n",
       "16            3        1020   \n",
       "17            3        1019   \n",
       "41            1         994   \n",
       "78            1         948   \n",
       "102           1         925   \n",
       "130           1         893   \n",
       "140           1         881   \n",
       "202           2         818   \n",
       "208           2         810   \n",
       "222           2         797   \n",
       "267           2         748   \n",
       "297           1         568   \n",
       "318           2         564   \n",
       "342           2         561   \n",
       "412           1         550   \n",
       "443           1         547   \n",
       "476           1         515   \n",
       "521           1         537   \n",
       "602           1         527   \n",
       "631           1         525   \n",
       "649           2         523   \n",
       "650           2         482   \n",
       "715           1         515   \n",
       "761           2         509   \n",
       "762           2         508   \n",
       "785           1         482   \n",
       "800           1         503   \n",
       "911           1         482   \n",
       "940           1         477   \n",
       "976           1         467   \n",
       "\n",
       "                                              Fullname Gender        Born  \\\n",
       "16                         Center for Civil Liberties     org  2007-00-00   \n",
       "17                                           Memorial     org  1987-00-00   \n",
       "41                               World Food Programme     org  1961-00-00   \n",
       "78   International Campaign to Abolish Nuclear Weap...    org  2007-00-00   \n",
       "102                         National Dialogue Quartet     org  13-07-2013   \n",
       "130  Organisation for the Prohibition of Chemical W...    org  1997-00-00   \n",
       "140                                    European Union     org  1952-00-00   \n",
       "202         Intergovernmental Panel on Climate Change     org  1988-00-00   \n",
       "208                                      Grameen Bank     org  1976-00-00   \n",
       "222                International Atomic Energy Agency     org  1957-00-00   \n",
       "267                                    United Nations     org  1945-00-00   \n",
       "297                           Doctors Without Borders     org  1971-00-00   \n",
       "318           International Campaign to Ban Landmines     org  1992-00-00   \n",
       "342  Pugwash Conferences on Science and World Affairs     org  1957-00-00   \n",
       "412                United Nations Peacekeeping Forces     org  1948-00-00   \n",
       "443  International Physicians for the Prevention of...    org  1980-00-00   \n",
       "476  Office of the United Nations High Commissioner...    org  14-12-1950   \n",
       "521                             Amnesty International     org  1961-00-00   \n",
       "602                 International Labour Organization     org  1919-00-00   \n",
       "631                    United Nations Children's Fund     org  1946-00-00   \n",
       "649                     League of Red Cross Societies     org  1919-00-00   \n",
       "650          International Committee of the Red Cross     org  1863-00-00   \n",
       "715  Office of the United Nations High Commissioner...    org  14-12-1950   \n",
       "761                American Friends Service Committee     org  1917-00-00   \n",
       "762                           Friends Service Council     org  1647-00-00   \n",
       "785          International Committee of the Red Cross     org  1863-00-00   \n",
       "800          Nansen International Office for Refugees     org  1921-00-00   \n",
       "911          International Committee of the Red Cross     org  1863-00-00   \n",
       "940              Permanent International Peace Bureau     org  1891-00-00   \n",
       "976                    Institute of International Law     org  1873-00-00   \n",
       "\n",
       "    Borncountry    Borncity        Died Diedcountry    Diedcity  \\\n",
       "16   UNREPORTED  UNREPORTED  UNREPORTED  UNREPORTED  UNREPORTED   \n",
       "17   UNREPORTED  UNREPORTED  UNREPORTED  UNREPORTED  UNREPORTED   \n",
       "41   UNREPORTED  UNREPORTED  UNREPORTED  UNREPORTED  UNREPORTED   \n",
       "78   UNREPORTED  UNREPORTED  UNREPORTED  UNREPORTED  UNREPORTED   \n",
       "102  UNREPORTED  UNREPORTED  UNREPORTED  UNREPORTED  UNREPORTED   \n",
       "130  UNREPORTED  UNREPORTED  UNREPORTED  UNREPORTED  UNREPORTED   \n",
       "140  UNREPORTED  UNREPORTED  UNREPORTED  UNREPORTED  UNREPORTED   \n",
       "202  UNREPORTED  UNREPORTED  UNREPORTED  UNREPORTED  UNREPORTED   \n",
       "208  UNREPORTED  UNREPORTED  UNREPORTED  UNREPORTED  UNREPORTED   \n",
       "222  UNREPORTED  UNREPORTED  UNREPORTED  UNREPORTED  UNREPORTED   \n",
       "267  UNREPORTED  UNREPORTED  UNREPORTED  UNREPORTED  UNREPORTED   \n",
       "297  UNREPORTED  UNREPORTED  UNREPORTED  UNREPORTED  UNREPORTED   \n",
       "318  UNREPORTED  UNREPORTED  UNREPORTED  UNREPORTED  UNREPORTED   \n",
       "342  UNREPORTED  UNREPORTED  UNREPORTED  UNREPORTED  UNREPORTED   \n",
       "412  UNREPORTED  UNREPORTED  UNREPORTED  UNREPORTED  UNREPORTED   \n",
       "443  UNREPORTED  UNREPORTED  UNREPORTED  UNREPORTED  UNREPORTED   \n",
       "476  UNREPORTED  UNREPORTED  UNREPORTED  UNREPORTED  UNREPORTED   \n",
       "521  UNREPORTED  UNREPORTED  UNREPORTED  UNREPORTED  UNREPORTED   \n",
       "602  UNREPORTED  UNREPORTED  UNREPORTED  UNREPORTED  UNREPORTED   \n",
       "631  UNREPORTED  UNREPORTED  UNREPORTED  UNREPORTED  UNREPORTED   \n",
       "649  UNREPORTED  UNREPORTED  UNREPORTED  UNREPORTED  UNREPORTED   \n",
       "650  UNREPORTED  UNREPORTED  UNREPORTED  UNREPORTED  UNREPORTED   \n",
       "715  UNREPORTED  UNREPORTED  UNREPORTED  UNREPORTED  UNREPORTED   \n",
       "761  UNREPORTED  UNREPORTED  UNREPORTED  UNREPORTED  UNREPORTED   \n",
       "762  UNREPORTED  UNREPORTED  UNREPORTED  UNREPORTED  UNREPORTED   \n",
       "785  UNREPORTED  UNREPORTED  UNREPORTED  UNREPORTED  UNREPORTED   \n",
       "800  UNREPORTED  UNREPORTED  UNREPORTED  UNREPORTED  UNREPORTED   \n",
       "911  UNREPORTED  UNREPORTED  UNREPORTED  UNREPORTED  UNREPORTED   \n",
       "940  UNREPORTED  UNREPORTED  UNREPORTED  UNREPORTED  UNREPORTED   \n",
       "976  UNREPORTED  UNREPORTED  UNREPORTED  UNREPORTED  UNREPORTED   \n",
       "\n",
       "    Organizationname Organizationcountry Organizationcity  \n",
       "16        UNREPORTED          UNREPORTED       UNREPORTED  \n",
       "17        UNREPORTED          UNREPORTED       UNREPORTED  \n",
       "41        UNREPORTED          UNREPORTED       UNREPORTED  \n",
       "78        UNREPORTED          UNREPORTED       UNREPORTED  \n",
       "102       UNREPORTED          UNREPORTED       UNREPORTED  \n",
       "130       UNREPORTED          UNREPORTED       UNREPORTED  \n",
       "140       UNREPORTED          UNREPORTED       UNREPORTED  \n",
       "202       UNREPORTED          UNREPORTED       UNREPORTED  \n",
       "208       UNREPORTED          UNREPORTED       UNREPORTED  \n",
       "222       UNREPORTED          UNREPORTED       UNREPORTED  \n",
       "267       UNREPORTED          UNREPORTED       UNREPORTED  \n",
       "297       UNREPORTED          UNREPORTED       UNREPORTED  \n",
       "318       UNREPORTED          UNREPORTED       UNREPORTED  \n",
       "342       UNREPORTED          UNREPORTED       UNREPORTED  \n",
       "412       UNREPORTED          UNREPORTED       UNREPORTED  \n",
       "443       UNREPORTED          UNREPORTED       UNREPORTED  \n",
       "476       UNREPORTED          UNREPORTED       UNREPORTED  \n",
       "521       UNREPORTED          UNREPORTED       UNREPORTED  \n",
       "602       UNREPORTED          UNREPORTED       UNREPORTED  \n",
       "631       UNREPORTED          UNREPORTED       UNREPORTED  \n",
       "649       UNREPORTED          UNREPORTED       UNREPORTED  \n",
       "650       UNREPORTED          UNREPORTED       UNREPORTED  \n",
       "715       UNREPORTED          UNREPORTED       UNREPORTED  \n",
       "761       UNREPORTED          UNREPORTED       UNREPORTED  \n",
       "762       UNREPORTED          UNREPORTED       UNREPORTED  \n",
       "785       UNREPORTED          UNREPORTED       UNREPORTED  \n",
       "800       UNREPORTED          UNREPORTED       UNREPORTED  \n",
       "911       UNREPORTED          UNREPORTED       UNREPORTED  \n",
       "940       UNREPORTED          UNREPORTED       UNREPORTED  \n",
       "976       UNREPORTED          UNREPORTED       UNREPORTED  "
      ]
     },
     "execution_count": 27,
     "metadata": {},
     "output_type": "execute_result"
    }
   ],
   "source": [
    "nobel_data[nobel_data.loc[:,'Gender'] == 'org']"
   ]
  },
  {
   "cell_type": "markdown",
   "id": "cbb76bae-ca42-4b9f-8e89-c220a33f9b98",
   "metadata": {},
   "source": [
    "Only in peace nobel laureate we have organization in Gender. Letsb check Nobel Laureate"
   ]
  },
  {
   "cell_type": "code",
   "execution_count": 29,
   "id": "5de21b1b-ef79-4de4-8380-c9700207b7cd",
   "metadata": {
    "tags": []
   },
   "outputs": [
    {
     "data": {
      "image/png": "[encoded data removed]",
      "text/plain": [
       "<Figure size 800x600 with 1 Axes>"
      ]
     },
     "metadata": {},
     "output_type": "display_data"
    }
   ],
   "source": [
    "# Gender counts\n",
    "gender_counts = {'male': 10, 'female': 5, 'Organization': 3}  # Replace with your actual data counts\n",
    "\n",
    "# Plotting the pie chart\n",
    "plt.figure(figsize=(8, 6))\n",
    "plt.pie(gender_counts.values(), labels=gender_counts.keys(), autopct='%1.1f%%', startangle=140)\n",
    "plt.title('Peace Nobel Laureates by Gender')\n",
    "plt.axis('equal')  # Equal aspect ratio ensures that pie is drawn as a circle.\n",
    "plt.show()\n"
   ]
  },
  {
   "cell_type": "code",
   "execution_count": 30,
   "id": "0fdde8ca-1ff2-4004-8fa2-984d3c7df79b",
   "metadata": {
    "tags": []
   },
   "outputs": [
    {
     "data": {
      "image/png": "[encoded data removed]",
      "text/plain": [
       "<Figure size 800x600 with 1 Axes>"
      ]
     },
     "metadata": {},
     "output_type": "display_data"
    }
   ],
   "source": [
    "import matplotlib.pyplot as plt\n",
    "\n",
    "# Sample data\n",
    "gender_counts = {'male': 10, 'female': 5}\n",
    "\n",
    "# Plotting the pie chart\n",
    "plt.figure(figsize=(8, 6))\n",
    "plt.pie(gender_counts.values(), labels=gender_counts.keys(), autopct='%1.1f%%', startangle=140)\n",
    "plt.title('Sample Pie Chart')\n",
    "plt.axis('equal')  # Equal aspect ratio ensures that pie is drawn as a circle.\n",
    "plt.show()\n"
   ]
  },
  {
   "cell_type": "markdown",
   "id": "2c31c108-4125-4699-b7bb-3096c56e643b",
   "metadata": {},
   "source": [
    "# Noisy data\n",
    "#### Checking that these variables are within a reasonable range with Boxplot"
   ]
  },
  {
   "cell_type": "markdown",
   "id": "351c157b-14ff-49e2-85ab-31456ceb06ee",
   "metadata": {},
   "source": [
    "######Boxplots to do"
   ]
  },
  {
   "cell_type": "code",
   "execution_count": 31,
   "id": "e7e0a6e1-4a58-4cc4-9e4a-c8de6547def3",
   "metadata": {
    "tags": []
   },
   "outputs": [
    {
     "data": {
      "image/png": "[encoded data removed]",
      "text/plain": [
       "<Figure size 800x600 with 1 Axes>"
      ]
     },
     "metadata": {},
     "output_type": "display_data"
    }
   ],
   "source": [
    "import matplotlib.pyplot as plt\n",
    "\n",
    "# Assuming you have your data stored in a DataFrame called nobel_data\n",
    "# Extracting gender counts from the DataFrame\n",
    "gender_counts = nobel_data['Gender'].value_counts()\n",
    "\n",
    "# Plotting the pie chart\n",
    "plt.figure(figsize=(8, 6))\n",
    "plt.pie(gender_counts, labels=gender_counts.index, autopct='%1.1f%%', startangle=140)\n",
    "plt.title('Peace Nobel Laureates by Gender')\n",
    "plt.axis('equal')  # Equal aspect ratio ensures that pie is drawn as a circle.\n",
    "plt.show()\n"
   ]
  },
  {
   "cell_type": "markdown",
   "id": "5b6561b8-5926-40c3-83c6-306b26631757",
   "metadata": {
    "tags": []
   },
   "source": [
    "### Display nobel countries on a map with naturalearth_lowres"
   ]
  },
  {
   "cell_type": "code",
   "execution_count": 32,
   "id": "2f7f65f6-bd4e-46b0-841e-6d65048529f5",
   "metadata": {
    "tags": []
   },
   "outputs": [
    {
     "data": {
      "text/plain": [
       "Index(['Year', 'Category', 'Motivation', 'Prizeshare', 'Laureateid',\n",
       "       'Fullname', 'Gender', 'Born', 'Borncountry', 'Borncity', 'Died',\n",
       "       'Diedcountry', 'Diedcity', 'Organizationname', 'Organizationcountry',\n",
       "       'Organizationcity'],\n",
       "      dtype='object')"
      ]
     },
     "execution_count": 32,
     "metadata": {},
     "output_type": "execute_result"
    }
   ],
   "source": [
    "nobel_data.columns"
   ]
  },
  {
   "cell_type": "code",
   "execution_count": 33,
   "id": "ebe9c395-369c-4a45-a229-08886f7b8f7f",
   "metadata": {
    "tags": []
   },
   "outputs": [
    {
     "ename": "DriverError",
     "evalue": "'/vsizip//Users/sarahbonnan/Desktop/ne_110m_admin_0_countries.zip' does not exist in the file system, and is not recognized as a supported dataset name.",
     "output_type": "error",
     "traceback": [
      "\u001b[0;31m---------------------------------------------------------------------------\u001b[0m",
      "\u001b[0;31mCPLE_OpenFailedError\u001b[0m                      Traceback (most recent call last)",
      "File \u001b[0;32mfiona/ogrext.pyx:136\u001b[0m, in \u001b[0;36mfiona.ogrext.gdal_open_vector\u001b[0;34m()\u001b[0m\n",
      "File \u001b[0;32mfiona/_err.pyx:291\u001b[0m, in \u001b[0;36mfiona._err.exc_wrap_pointer\u001b[0;34m()\u001b[0m\n",
      "\u001b[0;31mCPLE_OpenFailedError\u001b[0m: '/vsizip//Users/sarahbonnan/Desktop/ne_110m_admin_0_countries.zip' does not exist in the file system, and is not recognized as a supported dataset name.",
      "\nDuring handling of the above exception, another exception occurred:\n",
      "\u001b[0;31mDriverError\u001b[0m                               Traceback (most recent call last)",
      "Cell \u001b[0;32mIn[33], line 1\u001b[0m\n\u001b[0;32m----> 1\u001b[0m world \u001b[38;5;241m=\u001b[39m gpd\u001b[38;5;241m.\u001b[39mread_file(\u001b[38;5;124m'\u001b[39m\u001b[38;5;124m/Users/sarahbonnan/Desktop/ne_110m_admin_0_countries.zip\u001b[39m\u001b[38;5;124m'\u001b[39m)\n",
      "File \u001b[0;32m~/anaconda3/lib/python3.11/site-packages/geopandas/io/file.py:297\u001b[0m, in \u001b[0;36m_read_file\u001b[0;34m(filename, bbox, mask, rows, engine, **kwargs)\u001b[0m\n\u001b[1;32m    294\u001b[0m     \u001b[38;5;28;01melse\u001b[39;00m:\n\u001b[1;32m    295\u001b[0m         path_or_bytes \u001b[38;5;241m=\u001b[39m filename\n\u001b[0;32m--> 297\u001b[0m     \u001b[38;5;28;01mreturn\u001b[39;00m _read_file_fiona(\n\u001b[1;32m    298\u001b[0m         path_or_bytes, from_bytes, bbox\u001b[38;5;241m=\u001b[39mbbox, mask\u001b[38;5;241m=\u001b[39mmask, rows\u001b[38;5;241m=\u001b[39mrows, \u001b[38;5;241m*\u001b[39m\u001b[38;5;241m*\u001b[39mkwargs\n\u001b[1;32m    299\u001b[0m     )\n\u001b[1;32m    301\u001b[0m \u001b[38;5;28;01melse\u001b[39;00m:\n\u001b[1;32m    302\u001b[0m     \u001b[38;5;28;01mraise\u001b[39;00m \u001b[38;5;167;01mValueError\u001b[39;00m(\u001b[38;5;124mf\u001b[39m\u001b[38;5;124m\"\u001b[39m\u001b[38;5;124munknown engine \u001b[39m\u001b[38;5;124m'\u001b[39m\u001b[38;5;132;01m{\u001b[39;00mengine\u001b[38;5;132;01m}\u001b[39;00m\u001b[38;5;124m'\u001b[39m\u001b[38;5;124m\"\u001b[39m)\n",
      "File \u001b[0;32m~/anaconda3/lib/python3.11/site-packages/geopandas/io/file.py:338\u001b[0m, in \u001b[0;36m_read_file_fiona\u001b[0;34m(path_or_bytes, from_bytes, bbox, mask, rows, where, **kwargs)\u001b[0m\n\u001b[1;32m    335\u001b[0m     reader \u001b[38;5;241m=\u001b[39m fiona\u001b[38;5;241m.\u001b[39mopen\n\u001b[1;32m    337\u001b[0m \u001b[38;5;28;01mwith\u001b[39;00m fiona_env():\n\u001b[0;32m--> 338\u001b[0m     \u001b[38;5;28;01mwith\u001b[39;00m reader(path_or_bytes, \u001b[38;5;241m*\u001b[39m\u001b[38;5;241m*\u001b[39mkwargs) \u001b[38;5;28;01mas\u001b[39;00m features:\n\u001b[1;32m    339\u001b[0m         crs \u001b[38;5;241m=\u001b[39m features\u001b[38;5;241m.\u001b[39mcrs_wkt\n\u001b[1;32m    340\u001b[0m         \u001b[38;5;66;03m# attempt to get EPSG code\u001b[39;00m\n",
      "File \u001b[0;32m~/anaconda3/lib/python3.11/site-packages/fiona/env.py:457\u001b[0m, in \u001b[0;36mensure_env_with_credentials.<locals>.wrapper\u001b[0;34m(*args, **kwds)\u001b[0m\n\u001b[1;32m    454\u001b[0m     session \u001b[38;5;241m=\u001b[39m DummySession()\n\u001b[1;32m    456\u001b[0m \u001b[38;5;28;01mwith\u001b[39;00m env_ctor(session\u001b[38;5;241m=\u001b[39msession):\n\u001b[0;32m--> 457\u001b[0m     \u001b[38;5;28;01mreturn\u001b[39;00m f(\u001b[38;5;241m*\u001b[39margs, \u001b[38;5;241m*\u001b[39m\u001b[38;5;241m*\u001b[39mkwds)\n",
      "File \u001b[0;32m~/anaconda3/lib/python3.11/site-packages/fiona/__init__.py:292\u001b[0m, in \u001b[0;36mopen\u001b[0;34m(fp, mode, driver, schema, crs, encoding, layer, vfs, enabled_drivers, crs_wkt, allow_unsupported_drivers, **kwargs)\u001b[0m\n\u001b[1;32m    289\u001b[0m     path \u001b[38;5;241m=\u001b[39m parse_path(fp)\n\u001b[1;32m    291\u001b[0m \u001b[38;5;28;01mif\u001b[39;00m mode \u001b[38;5;129;01min\u001b[39;00m (\u001b[38;5;124m\"\u001b[39m\u001b[38;5;124ma\u001b[39m\u001b[38;5;124m\"\u001b[39m, \u001b[38;5;124m\"\u001b[39m\u001b[38;5;124mr\u001b[39m\u001b[38;5;124m\"\u001b[39m):\n\u001b[0;32m--> 292\u001b[0m     colxn \u001b[38;5;241m=\u001b[39m Collection(\n\u001b[1;32m    293\u001b[0m         path,\n\u001b[1;32m    294\u001b[0m         mode,\n\u001b[1;32m    295\u001b[0m         driver\u001b[38;5;241m=\u001b[39mdriver,\n\u001b[1;32m    296\u001b[0m         encoding\u001b[38;5;241m=\u001b[39mencoding,\n\u001b[1;32m    297\u001b[0m         layer\u001b[38;5;241m=\u001b[39mlayer,\n\u001b[1;32m    298\u001b[0m         enabled_drivers\u001b[38;5;241m=\u001b[39menabled_drivers,\n\u001b[1;32m    299\u001b[0m         allow_unsupported_drivers\u001b[38;5;241m=\u001b[39mallow_unsupported_drivers,\n\u001b[1;32m    300\u001b[0m         \u001b[38;5;241m*\u001b[39m\u001b[38;5;241m*\u001b[39mkwargs\n\u001b[1;32m    301\u001b[0m     )\n\u001b[1;32m    302\u001b[0m \u001b[38;5;28;01melif\u001b[39;00m mode \u001b[38;5;241m==\u001b[39m \u001b[38;5;124m\"\u001b[39m\u001b[38;5;124mw\u001b[39m\u001b[38;5;124m\"\u001b[39m:\n\u001b[1;32m    303\u001b[0m     colxn \u001b[38;5;241m=\u001b[39m Collection(\n\u001b[1;32m    304\u001b[0m         path,\n\u001b[1;32m    305\u001b[0m         mode,\n\u001b[0;32m   (...)\u001b[0m\n\u001b[1;32m    314\u001b[0m         \u001b[38;5;241m*\u001b[39m\u001b[38;5;241m*\u001b[39mkwargs\n\u001b[1;32m    315\u001b[0m     )\n",
      "File \u001b[0;32m~/anaconda3/lib/python3.11/site-packages/fiona/collection.py:243\u001b[0m, in \u001b[0;36mCollection.__init__\u001b[0;34m(self, path, mode, driver, schema, crs, encoding, layer, vsi, archive, enabled_drivers, crs_wkt, ignore_fields, ignore_geometry, include_fields, wkt_version, allow_unsupported_drivers, **kwargs)\u001b[0m\n\u001b[1;32m    241\u001b[0m \u001b[38;5;28;01mif\u001b[39;00m \u001b[38;5;28mself\u001b[39m\u001b[38;5;241m.\u001b[39mmode \u001b[38;5;241m==\u001b[39m \u001b[38;5;124m\"\u001b[39m\u001b[38;5;124mr\u001b[39m\u001b[38;5;124m\"\u001b[39m:\n\u001b[1;32m    242\u001b[0m     \u001b[38;5;28mself\u001b[39m\u001b[38;5;241m.\u001b[39msession \u001b[38;5;241m=\u001b[39m Session()\n\u001b[0;32m--> 243\u001b[0m     \u001b[38;5;28mself\u001b[39m\u001b[38;5;241m.\u001b[39msession\u001b[38;5;241m.\u001b[39mstart(\u001b[38;5;28mself\u001b[39m, \u001b[38;5;241m*\u001b[39m\u001b[38;5;241m*\u001b[39mkwargs)\n\u001b[1;32m    244\u001b[0m \u001b[38;5;28;01melif\u001b[39;00m \u001b[38;5;28mself\u001b[39m\u001b[38;5;241m.\u001b[39mmode \u001b[38;5;129;01min\u001b[39;00m (\u001b[38;5;124m\"\u001b[39m\u001b[38;5;124ma\u001b[39m\u001b[38;5;124m\"\u001b[39m, \u001b[38;5;124m\"\u001b[39m\u001b[38;5;124mw\u001b[39m\u001b[38;5;124m\"\u001b[39m):\n\u001b[1;32m    245\u001b[0m     \u001b[38;5;28mself\u001b[39m\u001b[38;5;241m.\u001b[39msession \u001b[38;5;241m=\u001b[39m WritingSession()\n",
      "File \u001b[0;32mfiona/ogrext.pyx:588\u001b[0m, in \u001b[0;36mfiona.ogrext.Session.start\u001b[0;34m()\u001b[0m\n",
      "File \u001b[0;32mfiona/ogrext.pyx:143\u001b[0m, in \u001b[0;36mfiona.ogrext.gdal_open_vector\u001b[0;34m()\u001b[0m\n",
      "\u001b[0;31mDriverError\u001b[0m: '/vsizip//Users/sarahbonnan/Desktop/ne_110m_admin_0_countries.zip' does not exist in the file system, and is not recognized as a supported dataset name."
     ]
    }
   ],
   "source": [
    "world = gpd.read_file('/Users/sarahbonnan/Desktop/ne_110m_admin_0_countries.zip')"
   ]
  },
  {
   "cell_type": "code",
   "execution_count": null,
   "id": "052ec8d2-7703-4972-93c4-ead09a2e09ea",
   "metadata": {
    "tags": []
   },
   "outputs": [],
   "source": [
    "world.head(3)"
   ]
  },
  {
   "cell_type": "code",
   "execution_count": null,
   "id": "79c7fda8-154b-4bfc-838a-a3c6702a6dd9",
   "metadata": {
    "tags": []
   },
   "outputs": [],
   "source": [
    "# Join between the two DataFrames\n",
    "merged_data = pd.merge(left=nobel_data, right=world, left_on='Borncountry', right_on='ADMIN', how='left')\n",
    "\n",
    "# Select entries without a match in 'Borncountry'.\n",
    "missing_borncountry = merged_data[merged_data['Borncountry'].isnull()]\n",
    "missing_borncountry_names = missing_borncountry['ADMIN'].unique()\n",
    "\n",
    "# Select entries without a match in 'ADMIN'.\n",
    "missing_admin = merged_data[merged_data['ADMIN'].isnull()]\n",
    "missing_admin_names = missing_admin['Borncountry'].unique()\n",
    "\n",
    "# # Display the names of the countries without a match.\n",
    "print(\"Countries in 'ADMIN' of World without a match in 'Borncountry' de nobel_data:\")\n",
    "print(missing_borncountry_names)\n",
    "\n",
    "print(\"\\nCountries in'Borncountry' of nobel_data without a match in 'ADMIN' of World:\")\n",
    "print(missing_admin_names)\n"
   ]
  },
  {
   "cell_type": "code",
   "execution_count": 20,
   "id": "b995937f-9904-4d8a-bf38-b8cfbdbf667c",
   "metadata": {
    "tags": []
   },
   "outputs": [],
   "source": [
    "remplacements = {'USA':'United States of America','the Netherlands':'Netherlands','Tanzania':'United Republic of Tanzania','Scotland':'United Kingdom','Northern Ireland':'Saint Lucia',\n",
    "                'Czech Republic':'Czechia','Turkiye':'Turkey','Guadeloupe Island':'France','Faroe Islands (Denmark)':'Denmark'}\n",
    "\n",
    "# Perform replacement in the 'Borncountry' column of the 'nobel_data' DataFrame.\"\n",
    "nobel_data['Borncountry'].replace(remplacements, inplace=True)\n"
   ]
  },
  {
   "cell_type": "code",
   "execution_count": 21,
   "id": "99f4aee9-3fa6-4ff1-9477-4815eb92d612",
   "metadata": {
    "tags": []
   },
   "outputs": [
    {
     "ename": "DriverError",
     "evalue": "'/vsizip//Users/sarahbonnan/Desktop/ne_110m_admin_0_countries.zip' does not exist in the file system, and is not recognized as a supported dataset name.",
     "output_type": "error",
     "traceback": [
      "\u001b[0;31m---------------------------------------------------------------------------\u001b[0m",
      "\u001b[0;31mCPLE_OpenFailedError\u001b[0m                      Traceback (most recent call last)",
      "File \u001b[0;32mfiona/ogrext.pyx:136\u001b[0m, in \u001b[0;36mfiona.ogrext.gdal_open_vector\u001b[0;34m()\u001b[0m\n",
      "File \u001b[0;32mfiona/_err.pyx:291\u001b[0m, in \u001b[0;36mfiona._err.exc_wrap_pointer\u001b[0;34m()\u001b[0m\n",
      "\u001b[0;31mCPLE_OpenFailedError\u001b[0m: '/vsizip//Users/sarahbonnan/Desktop/ne_110m_admin_0_countries.zip' does not exist in the file system, and is not recognized as a supported dataset name.",
      "\nDuring handling of the above exception, another exception occurred:\n",
      "\u001b[0;31mDriverError\u001b[0m                               Traceback (most recent call last)",
      "Cell \u001b[0;32mIn[21], line 14\u001b[0m\n\u001b[1;32m     11\u001b[0m nobel_countries \u001b[38;5;241m=\u001b[39m \u001b[38;5;28mset\u001b[39m(born_countries) \u001b[38;5;241m|\u001b[39m \u001b[38;5;28mset\u001b[39m(died_countries)\n\u001b[1;32m     13\u001b[0m \u001b[38;5;66;03m# Load the geospatial data of countries from Natural Earth Data.\u001b[39;00m\n\u001b[0;32m---> 14\u001b[0m world \u001b[38;5;241m=\u001b[39m gpd\u001b[38;5;241m.\u001b[39mread_file(\u001b[38;5;124m'\u001b[39m\u001b[38;5;124m/Users/sarahbonnan/Desktop/ne_110m_admin_0_countries.zip\u001b[39m\u001b[38;5;124m'\u001b[39m)\n\u001b[1;32m     16\u001b[0m \u001b[38;5;66;03m# Merge the Nobel Prize data with the geospatial data of countries.\u001b[39;00m\n\u001b[1;32m     17\u001b[0m nobel_world \u001b[38;5;241m=\u001b[39m world[world[\u001b[38;5;124m'\u001b[39m\u001b[38;5;124mADMIN\u001b[39m\u001b[38;5;124m'\u001b[39m]\u001b[38;5;241m.\u001b[39misin(nobel_countries)]\n",
      "File \u001b[0;32m~/anaconda3/lib/python3.11/site-packages/geopandas/io/file.py:297\u001b[0m, in \u001b[0;36m_read_file\u001b[0;34m(filename, bbox, mask, rows, engine, **kwargs)\u001b[0m\n\u001b[1;32m    294\u001b[0m     \u001b[38;5;28;01melse\u001b[39;00m:\n\u001b[1;32m    295\u001b[0m         path_or_bytes \u001b[38;5;241m=\u001b[39m filename\n\u001b[0;32m--> 297\u001b[0m     \u001b[38;5;28;01mreturn\u001b[39;00m _read_file_fiona(\n\u001b[1;32m    298\u001b[0m         path_or_bytes, from_bytes, bbox\u001b[38;5;241m=\u001b[39mbbox, mask\u001b[38;5;241m=\u001b[39mmask, rows\u001b[38;5;241m=\u001b[39mrows, \u001b[38;5;241m*\u001b[39m\u001b[38;5;241m*\u001b[39mkwargs\n\u001b[1;32m    299\u001b[0m     )\n\u001b[1;32m    301\u001b[0m \u001b[38;5;28;01melse\u001b[39;00m:\n\u001b[1;32m    302\u001b[0m     \u001b[38;5;28;01mraise\u001b[39;00m \u001b[38;5;167;01mValueError\u001b[39;00m(\u001b[38;5;124mf\u001b[39m\u001b[38;5;124m\"\u001b[39m\u001b[38;5;124munknown engine \u001b[39m\u001b[38;5;124m'\u001b[39m\u001b[38;5;132;01m{\u001b[39;00mengine\u001b[38;5;132;01m}\u001b[39;00m\u001b[38;5;124m'\u001b[39m\u001b[38;5;124m\"\u001b[39m)\n",
      "File \u001b[0;32m~/anaconda3/lib/python3.11/site-packages/geopandas/io/file.py:338\u001b[0m, in \u001b[0;36m_read_file_fiona\u001b[0;34m(path_or_bytes, from_bytes, bbox, mask, rows, where, **kwargs)\u001b[0m\n\u001b[1;32m    335\u001b[0m     reader \u001b[38;5;241m=\u001b[39m fiona\u001b[38;5;241m.\u001b[39mopen\n\u001b[1;32m    337\u001b[0m \u001b[38;5;28;01mwith\u001b[39;00m fiona_env():\n\u001b[0;32m--> 338\u001b[0m     \u001b[38;5;28;01mwith\u001b[39;00m reader(path_or_bytes, \u001b[38;5;241m*\u001b[39m\u001b[38;5;241m*\u001b[39mkwargs) \u001b[38;5;28;01mas\u001b[39;00m features:\n\u001b[1;32m    339\u001b[0m         crs \u001b[38;5;241m=\u001b[39m features\u001b[38;5;241m.\u001b[39mcrs_wkt\n\u001b[1;32m    340\u001b[0m         \u001b[38;5;66;03m# attempt to get EPSG code\u001b[39;00m\n",
      "File \u001b[0;32m~/anaconda3/lib/python3.11/site-packages/fiona/env.py:457\u001b[0m, in \u001b[0;36mensure_env_with_credentials.<locals>.wrapper\u001b[0;34m(*args, **kwds)\u001b[0m\n\u001b[1;32m    454\u001b[0m     session \u001b[38;5;241m=\u001b[39m DummySession()\n\u001b[1;32m    456\u001b[0m \u001b[38;5;28;01mwith\u001b[39;00m env_ctor(session\u001b[38;5;241m=\u001b[39msession):\n\u001b[0;32m--> 457\u001b[0m     \u001b[38;5;28;01mreturn\u001b[39;00m f(\u001b[38;5;241m*\u001b[39margs, \u001b[38;5;241m*\u001b[39m\u001b[38;5;241m*\u001b[39mkwds)\n",
      "File \u001b[0;32m~/anaconda3/lib/python3.11/site-packages/fiona/__init__.py:292\u001b[0m, in \u001b[0;36mopen\u001b[0;34m(fp, mode, driver, schema, crs, encoding, layer, vfs, enabled_drivers, crs_wkt, allow_unsupported_drivers, **kwargs)\u001b[0m\n\u001b[1;32m    289\u001b[0m     path \u001b[38;5;241m=\u001b[39m parse_path(fp)\n\u001b[1;32m    291\u001b[0m \u001b[38;5;28;01mif\u001b[39;00m mode \u001b[38;5;129;01min\u001b[39;00m (\u001b[38;5;124m\"\u001b[39m\u001b[38;5;124ma\u001b[39m\u001b[38;5;124m\"\u001b[39m, \u001b[38;5;124m\"\u001b[39m\u001b[38;5;124mr\u001b[39m\u001b[38;5;124m\"\u001b[39m):\n\u001b[0;32m--> 292\u001b[0m     colxn \u001b[38;5;241m=\u001b[39m Collection(\n\u001b[1;32m    293\u001b[0m         path,\n\u001b[1;32m    294\u001b[0m         mode,\n\u001b[1;32m    295\u001b[0m         driver\u001b[38;5;241m=\u001b[39mdriver,\n\u001b[1;32m    296\u001b[0m         encoding\u001b[38;5;241m=\u001b[39mencoding,\n\u001b[1;32m    297\u001b[0m         layer\u001b[38;5;241m=\u001b[39mlayer,\n\u001b[1;32m    298\u001b[0m         enabled_drivers\u001b[38;5;241m=\u001b[39menabled_drivers,\n\u001b[1;32m    299\u001b[0m         allow_unsupported_drivers\u001b[38;5;241m=\u001b[39mallow_unsupported_drivers,\n\u001b[1;32m    300\u001b[0m         \u001b[38;5;241m*\u001b[39m\u001b[38;5;241m*\u001b[39mkwargs\n\u001b[1;32m    301\u001b[0m     )\n\u001b[1;32m    302\u001b[0m \u001b[38;5;28;01melif\u001b[39;00m mode \u001b[38;5;241m==\u001b[39m \u001b[38;5;124m\"\u001b[39m\u001b[38;5;124mw\u001b[39m\u001b[38;5;124m\"\u001b[39m:\n\u001b[1;32m    303\u001b[0m     colxn \u001b[38;5;241m=\u001b[39m Collection(\n\u001b[1;32m    304\u001b[0m         path,\n\u001b[1;32m    305\u001b[0m         mode,\n\u001b[0;32m   (...)\u001b[0m\n\u001b[1;32m    314\u001b[0m         \u001b[38;5;241m*\u001b[39m\u001b[38;5;241m*\u001b[39mkwargs\n\u001b[1;32m    315\u001b[0m     )\n",
      "File \u001b[0;32m~/anaconda3/lib/python3.11/site-packages/fiona/collection.py:243\u001b[0m, in \u001b[0;36mCollection.__init__\u001b[0;34m(self, path, mode, driver, schema, crs, encoding, layer, vsi, archive, enabled_drivers, crs_wkt, ignore_fields, ignore_geometry, include_fields, wkt_version, allow_unsupported_drivers, **kwargs)\u001b[0m\n\u001b[1;32m    241\u001b[0m \u001b[38;5;28;01mif\u001b[39;00m \u001b[38;5;28mself\u001b[39m\u001b[38;5;241m.\u001b[39mmode \u001b[38;5;241m==\u001b[39m \u001b[38;5;124m\"\u001b[39m\u001b[38;5;124mr\u001b[39m\u001b[38;5;124m\"\u001b[39m:\n\u001b[1;32m    242\u001b[0m     \u001b[38;5;28mself\u001b[39m\u001b[38;5;241m.\u001b[39msession \u001b[38;5;241m=\u001b[39m Session()\n\u001b[0;32m--> 243\u001b[0m     \u001b[38;5;28mself\u001b[39m\u001b[38;5;241m.\u001b[39msession\u001b[38;5;241m.\u001b[39mstart(\u001b[38;5;28mself\u001b[39m, \u001b[38;5;241m*\u001b[39m\u001b[38;5;241m*\u001b[39mkwargs)\n\u001b[1;32m    244\u001b[0m \u001b[38;5;28;01melif\u001b[39;00m \u001b[38;5;28mself\u001b[39m\u001b[38;5;241m.\u001b[39mmode \u001b[38;5;129;01min\u001b[39;00m (\u001b[38;5;124m\"\u001b[39m\u001b[38;5;124ma\u001b[39m\u001b[38;5;124m\"\u001b[39m, \u001b[38;5;124m\"\u001b[39m\u001b[38;5;124mw\u001b[39m\u001b[38;5;124m\"\u001b[39m):\n\u001b[1;32m    245\u001b[0m     \u001b[38;5;28mself\u001b[39m\u001b[38;5;241m.\u001b[39msession \u001b[38;5;241m=\u001b[39m WritingSession()\n",
      "File \u001b[0;32mfiona/ogrext.pyx:588\u001b[0m, in \u001b[0;36mfiona.ogrext.Session.start\u001b[0;34m()\u001b[0m\n",
      "File \u001b[0;32mfiona/ogrext.pyx:143\u001b[0m, in \u001b[0;36mfiona.ogrext.gdal_open_vector\u001b[0;34m()\u001b[0m\n",
      "\u001b[0;31mDriverError\u001b[0m: '/vsizip//Users/sarahbonnan/Desktop/ne_110m_admin_0_countries.zip' does not exist in the file system, and is not recognized as a supported dataset name."
     ]
    }
   ],
   "source": [
    "import matplotlib.pyplot as plt\n",
    "import geopandas as gpd\n",
    "from matplotlib.patches import Patch\n",
    "\n",
    "# Get the list of countries from the 'Borncountry' column.\n",
    "born_countries = nobel_data['Borncountry'].unique()\n",
    "\n",
    "# Get the list of countries from the \"Diedcountry\" column.\n",
    "died_countries = nobel_data['Diedcountry'].unique()\n",
    "\n",
    "nobel_countries = set(born_countries) | set(died_countries)\n",
    "\n",
    "# Load the geospatial data of countries from Natural Earth Data.\n",
    "world = gpd.read_file('/Users/sarahbonnan/Desktop/ne_110m_admin_0_countries.zip')\n",
    "\n",
    "# Merge the Nobel Prize data with the geospatial data of countries.\n",
    "nobel_world = world[world['ADMIN'].isin(nobel_countries)]\n",
    "\n",
    "# Display the map\n",
    "fig, ax = plt.subplots(figsize=(10, 6))\n",
    "world.plot(ax=ax, color='lightgrey', edgecolor='black')\n",
    "\n",
    "# Display the countries that have received at least one Nobel Prize.\n",
    "nobel_world.plot(ax=ax, color='blue', alpha=0.5)\n",
    "\n",
    "# Create a custom legend for countries with Nobel Prize\n",
    "legend_elements = [Patch(facecolor='blue', edgecolor='black', label='Countries with Nobel Prize')]\n",
    "ax.legend(handles=legend_elements)\n",
    "\n",
    "plt.title('Countries that received at least one Nobel Prize')\n",
    "plt.xlabel('Longitude')\n",
    "plt.ylabel('Latitude')\n",
    "plt.show()\n"
   ]
  },
  {
   "cell_type": "code",
   "execution_count": 22,
   "id": "a0f04b5f-ff73-450f-8b53-1fbff7e0fd87",
   "metadata": {
    "tags": []
   },
   "outputs": [
    {
     "ename": "DriverError",
     "evalue": "'/vsizip//Users/sarahbonnan/Desktop/ne_110m_admin_0_countries.zip' does not exist in the file system, and is not recognized as a supported dataset name.",
     "output_type": "error",
     "traceback": [
      "\u001b[0;31m---------------------------------------------------------------------------\u001b[0m",
      "\u001b[0;31mCPLE_OpenFailedError\u001b[0m                      Traceback (most recent call last)",
      "File \u001b[0;32mfiona/ogrext.pyx:136\u001b[0m, in \u001b[0;36mfiona.ogrext.gdal_open_vector\u001b[0;34m()\u001b[0m\n",
      "File \u001b[0;32mfiona/_err.pyx:291\u001b[0m, in \u001b[0;36mfiona._err.exc_wrap_pointer\u001b[0;34m()\u001b[0m\n",
      "\u001b[0;31mCPLE_OpenFailedError\u001b[0m: '/vsizip//Users/sarahbonnan/Desktop/ne_110m_admin_0_countries.zip' does not exist in the file system, and is not recognized as a supported dataset name.",
      "\nDuring handling of the above exception, another exception occurred:\n",
      "\u001b[0;31mDriverError\u001b[0m                               Traceback (most recent call last)",
      "Cell \u001b[0;32mIn[22], line 5\u001b[0m\n\u001b[1;32m      2\u001b[0m \u001b[38;5;28;01mimport\u001b[39;00m \u001b[38;5;21;01mgeopandas\u001b[39;00m \u001b[38;5;28;01mas\u001b[39;00m \u001b[38;5;21;01mgpd\u001b[39;00m\n\u001b[1;32m      4\u001b[0m \u001b[38;5;66;03m# Load the geospatial data of countries from Natural Earth Data.\u001b[39;00m\n\u001b[0;32m----> 5\u001b[0m world \u001b[38;5;241m=\u001b[39m gpd\u001b[38;5;241m.\u001b[39mread_file(\u001b[38;5;124m'\u001b[39m\u001b[38;5;124m/Users/sarahbonnan/Desktop/ne_110m_admin_0_countries.zip\u001b[39m\u001b[38;5;124m'\u001b[39m)\n\u001b[1;32m      7\u001b[0m \u001b[38;5;66;03m# Group Nobel Prize data by born country and count the number of laureates in each country.\u001b[39;00m\n\u001b[1;32m      8\u001b[0m born_counts \u001b[38;5;241m=\u001b[39m nobel_data[\u001b[38;5;124m'\u001b[39m\u001b[38;5;124mBorncountry\u001b[39m\u001b[38;5;124m'\u001b[39m]\u001b[38;5;241m.\u001b[39mvalue_counts()\u001b[38;5;241m.\u001b[39mreset_index()\n",
      "File \u001b[0;32m~/anaconda3/lib/python3.11/site-packages/geopandas/io/file.py:297\u001b[0m, in \u001b[0;36m_read_file\u001b[0;34m(filename, bbox, mask, rows, engine, **kwargs)\u001b[0m\n\u001b[1;32m    294\u001b[0m     \u001b[38;5;28;01melse\u001b[39;00m:\n\u001b[1;32m    295\u001b[0m         path_or_bytes \u001b[38;5;241m=\u001b[39m filename\n\u001b[0;32m--> 297\u001b[0m     \u001b[38;5;28;01mreturn\u001b[39;00m _read_file_fiona(\n\u001b[1;32m    298\u001b[0m         path_or_bytes, from_bytes, bbox\u001b[38;5;241m=\u001b[39mbbox, mask\u001b[38;5;241m=\u001b[39mmask, rows\u001b[38;5;241m=\u001b[39mrows, \u001b[38;5;241m*\u001b[39m\u001b[38;5;241m*\u001b[39mkwargs\n\u001b[1;32m    299\u001b[0m     )\n\u001b[1;32m    301\u001b[0m \u001b[38;5;28;01melse\u001b[39;00m:\n\u001b[1;32m    302\u001b[0m     \u001b[38;5;28;01mraise\u001b[39;00m \u001b[38;5;167;01mValueError\u001b[39;00m(\u001b[38;5;124mf\u001b[39m\u001b[38;5;124m\"\u001b[39m\u001b[38;5;124munknown engine \u001b[39m\u001b[38;5;124m'\u001b[39m\u001b[38;5;132;01m{\u001b[39;00mengine\u001b[38;5;132;01m}\u001b[39;00m\u001b[38;5;124m'\u001b[39m\u001b[38;5;124m\"\u001b[39m)\n",
      "File \u001b[0;32m~/anaconda3/lib/python3.11/site-packages/geopandas/io/file.py:338\u001b[0m, in \u001b[0;36m_read_file_fiona\u001b[0;34m(path_or_bytes, from_bytes, bbox, mask, rows, where, **kwargs)\u001b[0m\n\u001b[1;32m    335\u001b[0m     reader \u001b[38;5;241m=\u001b[39m fiona\u001b[38;5;241m.\u001b[39mopen\n\u001b[1;32m    337\u001b[0m \u001b[38;5;28;01mwith\u001b[39;00m fiona_env():\n\u001b[0;32m--> 338\u001b[0m     \u001b[38;5;28;01mwith\u001b[39;00m reader(path_or_bytes, \u001b[38;5;241m*\u001b[39m\u001b[38;5;241m*\u001b[39mkwargs) \u001b[38;5;28;01mas\u001b[39;00m features:\n\u001b[1;32m    339\u001b[0m         crs \u001b[38;5;241m=\u001b[39m features\u001b[38;5;241m.\u001b[39mcrs_wkt\n\u001b[1;32m    340\u001b[0m         \u001b[38;5;66;03m# attempt to get EPSG code\u001b[39;00m\n",
      "File \u001b[0;32m~/anaconda3/lib/python3.11/site-packages/fiona/env.py:457\u001b[0m, in \u001b[0;36mensure_env_with_credentials.<locals>.wrapper\u001b[0;34m(*args, **kwds)\u001b[0m\n\u001b[1;32m    454\u001b[0m     session \u001b[38;5;241m=\u001b[39m DummySession()\n\u001b[1;32m    456\u001b[0m \u001b[38;5;28;01mwith\u001b[39;00m env_ctor(session\u001b[38;5;241m=\u001b[39msession):\n\u001b[0;32m--> 457\u001b[0m     \u001b[38;5;28;01mreturn\u001b[39;00m f(\u001b[38;5;241m*\u001b[39margs, \u001b[38;5;241m*\u001b[39m\u001b[38;5;241m*\u001b[39mkwds)\n",
      "File \u001b[0;32m~/anaconda3/lib/python3.11/site-packages/fiona/__init__.py:292\u001b[0m, in \u001b[0;36mopen\u001b[0;34m(fp, mode, driver, schema, crs, encoding, layer, vfs, enabled_drivers, crs_wkt, allow_unsupported_drivers, **kwargs)\u001b[0m\n\u001b[1;32m    289\u001b[0m     path \u001b[38;5;241m=\u001b[39m parse_path(fp)\n\u001b[1;32m    291\u001b[0m \u001b[38;5;28;01mif\u001b[39;00m mode \u001b[38;5;129;01min\u001b[39;00m (\u001b[38;5;124m\"\u001b[39m\u001b[38;5;124ma\u001b[39m\u001b[38;5;124m\"\u001b[39m, \u001b[38;5;124m\"\u001b[39m\u001b[38;5;124mr\u001b[39m\u001b[38;5;124m\"\u001b[39m):\n\u001b[0;32m--> 292\u001b[0m     colxn \u001b[38;5;241m=\u001b[39m Collection(\n\u001b[1;32m    293\u001b[0m         path,\n\u001b[1;32m    294\u001b[0m         mode,\n\u001b[1;32m    295\u001b[0m         driver\u001b[38;5;241m=\u001b[39mdriver,\n\u001b[1;32m    296\u001b[0m         encoding\u001b[38;5;241m=\u001b[39mencoding,\n\u001b[1;32m    297\u001b[0m         layer\u001b[38;5;241m=\u001b[39mlayer,\n\u001b[1;32m    298\u001b[0m         enabled_drivers\u001b[38;5;241m=\u001b[39menabled_drivers,\n\u001b[1;32m    299\u001b[0m         allow_unsupported_drivers\u001b[38;5;241m=\u001b[39mallow_unsupported_drivers,\n\u001b[1;32m    300\u001b[0m         \u001b[38;5;241m*\u001b[39m\u001b[38;5;241m*\u001b[39mkwargs\n\u001b[1;32m    301\u001b[0m     )\n\u001b[1;32m    302\u001b[0m \u001b[38;5;28;01melif\u001b[39;00m mode \u001b[38;5;241m==\u001b[39m \u001b[38;5;124m\"\u001b[39m\u001b[38;5;124mw\u001b[39m\u001b[38;5;124m\"\u001b[39m:\n\u001b[1;32m    303\u001b[0m     colxn \u001b[38;5;241m=\u001b[39m Collection(\n\u001b[1;32m    304\u001b[0m         path,\n\u001b[1;32m    305\u001b[0m         mode,\n\u001b[0;32m   (...)\u001b[0m\n\u001b[1;32m    314\u001b[0m         \u001b[38;5;241m*\u001b[39m\u001b[38;5;241m*\u001b[39mkwargs\n\u001b[1;32m    315\u001b[0m     )\n",
      "File \u001b[0;32m~/anaconda3/lib/python3.11/site-packages/fiona/collection.py:243\u001b[0m, in \u001b[0;36mCollection.__init__\u001b[0;34m(self, path, mode, driver, schema, crs, encoding, layer, vsi, archive, enabled_drivers, crs_wkt, ignore_fields, ignore_geometry, include_fields, wkt_version, allow_unsupported_drivers, **kwargs)\u001b[0m\n\u001b[1;32m    241\u001b[0m \u001b[38;5;28;01mif\u001b[39;00m \u001b[38;5;28mself\u001b[39m\u001b[38;5;241m.\u001b[39mmode \u001b[38;5;241m==\u001b[39m \u001b[38;5;124m\"\u001b[39m\u001b[38;5;124mr\u001b[39m\u001b[38;5;124m\"\u001b[39m:\n\u001b[1;32m    242\u001b[0m     \u001b[38;5;28mself\u001b[39m\u001b[38;5;241m.\u001b[39msession \u001b[38;5;241m=\u001b[39m Session()\n\u001b[0;32m--> 243\u001b[0m     \u001b[38;5;28mself\u001b[39m\u001b[38;5;241m.\u001b[39msession\u001b[38;5;241m.\u001b[39mstart(\u001b[38;5;28mself\u001b[39m, \u001b[38;5;241m*\u001b[39m\u001b[38;5;241m*\u001b[39mkwargs)\n\u001b[1;32m    244\u001b[0m \u001b[38;5;28;01melif\u001b[39;00m \u001b[38;5;28mself\u001b[39m\u001b[38;5;241m.\u001b[39mmode \u001b[38;5;129;01min\u001b[39;00m (\u001b[38;5;124m\"\u001b[39m\u001b[38;5;124ma\u001b[39m\u001b[38;5;124m\"\u001b[39m, \u001b[38;5;124m\"\u001b[39m\u001b[38;5;124mw\u001b[39m\u001b[38;5;124m\"\u001b[39m):\n\u001b[1;32m    245\u001b[0m     \u001b[38;5;28mself\u001b[39m\u001b[38;5;241m.\u001b[39msession \u001b[38;5;241m=\u001b[39m WritingSession()\n",
      "File \u001b[0;32mfiona/ogrext.pyx:588\u001b[0m, in \u001b[0;36mfiona.ogrext.Session.start\u001b[0;34m()\u001b[0m\n",
      "File \u001b[0;32mfiona/ogrext.pyx:143\u001b[0m, in \u001b[0;36mfiona.ogrext.gdal_open_vector\u001b[0;34m()\u001b[0m\n",
      "\u001b[0;31mDriverError\u001b[0m: '/vsizip//Users/sarahbonnan/Desktop/ne_110m_admin_0_countries.zip' does not exist in the file system, and is not recognized as a supported dataset name."
     ]
    }
   ],
   "source": [
    "import matplotlib.pyplot as plt\n",
    "import geopandas as gpd\n",
    "\n",
    "# Load the geospatial data of countries from Natural Earth Data.\n",
    "world = gpd.read_file('/Users/sarahbonnan/Desktop/ne_110m_admin_0_countries.zip')\n",
    "\n",
    "# Group Nobel Prize data by born country and count the number of laureates in each country.\n",
    "born_counts = nobel_data['Borncountry'].value_counts().reset_index()\n",
    "born_counts.columns = ['ADMIN', 'Count']  # Rename columns for merging\n",
    "\n",
    "# Merge the born_counts data with the geospatial data of countries.\n",
    "world_with_counts = world.merge(born_counts, on='ADMIN', how='left')\n",
    "\n",
    "# Plot the heatmap\n",
    "fig, ax = plt.subplots(figsize=(12, 8))  # Adjust figure size\n",
    "\n",
    "# Plot countries with laureates\n",
    "world_with_counts.plot(column='Count', cmap='Oranges', linewidth=0.8, ax=ax, edgecolor='0.8', legend=True)\n",
    "\n",
    "# Plot countries with no laureates in white\n",
    "world_with_counts[world_with_counts['Count'].isna()].plot(ax=ax, color='white', edgecolor='0.8')\n",
    "\n",
    "# Add title and labels\n",
    "plt.title('Heatmap of Nobel Laureates by Birth Country')\n",
    "plt.xlabel('Longitude')\n",
    "plt.ylabel('Latitude')\n",
    "\n",
    "# Show the plot\n",
    "plt.show()\n"
   ]
  },
  {
   "cell_type": "code",
   "execution_count": 23,
   "id": "236a6d35-e822-4834-8f3c-3efcd1443b87",
   "metadata": {
    "tags": []
   },
   "outputs": [
    {
     "ename": "DriverError",
     "evalue": "'/vsizip//Users/sarahbonnan/Desktop/ne_110m_admin_0_countries.zip' does not exist in the file system, and is not recognized as a supported dataset name.",
     "output_type": "error",
     "traceback": [
      "\u001b[0;31m---------------------------------------------------------------------------\u001b[0m",
      "\u001b[0;31mCPLE_OpenFailedError\u001b[0m                      Traceback (most recent call last)",
      "File \u001b[0;32mfiona/ogrext.pyx:136\u001b[0m, in \u001b[0;36mfiona.ogrext.gdal_open_vector\u001b[0;34m()\u001b[0m\n",
      "File \u001b[0;32mfiona/_err.pyx:291\u001b[0m, in \u001b[0;36mfiona._err.exc_wrap_pointer\u001b[0;34m()\u001b[0m\n",
      "\u001b[0;31mCPLE_OpenFailedError\u001b[0m: '/vsizip//Users/sarahbonnan/Desktop/ne_110m_admin_0_countries.zip' does not exist in the file system, and is not recognized as a supported dataset name.",
      "\nDuring handling of the above exception, another exception occurred:\n",
      "\u001b[0;31mDriverError\u001b[0m                               Traceback (most recent call last)",
      "Cell \u001b[0;32mIn[23], line 5\u001b[0m\n\u001b[1;32m      2\u001b[0m \u001b[38;5;28;01mimport\u001b[39;00m \u001b[38;5;21;01mgeopandas\u001b[39;00m \u001b[38;5;28;01mas\u001b[39;00m \u001b[38;5;21;01mgpd\u001b[39;00m\n\u001b[1;32m      4\u001b[0m \u001b[38;5;66;03m# Load the geospatial data of countries from Natural Earth Data.\u001b[39;00m\n\u001b[0;32m----> 5\u001b[0m world \u001b[38;5;241m=\u001b[39m gpd\u001b[38;5;241m.\u001b[39mread_file(\u001b[38;5;124m'\u001b[39m\u001b[38;5;124m/Users/sarahbonnan/Desktop/ne_110m_admin_0_countries.zip\u001b[39m\u001b[38;5;124m'\u001b[39m)\n\u001b[1;32m      7\u001b[0m \u001b[38;5;66;03m# Filter out Nobel Peace Prize laureates\u001b[39;00m\n\u001b[1;32m      8\u001b[0m nobel_data_without_peace \u001b[38;5;241m=\u001b[39m nobel_data[nobel_data[\u001b[38;5;124m'\u001b[39m\u001b[38;5;124mCategory\u001b[39m\u001b[38;5;124m'\u001b[39m] \u001b[38;5;241m!=\u001b[39m \u001b[38;5;124m'\u001b[39m\u001b[38;5;124mPeace\u001b[39m\u001b[38;5;124m'\u001b[39m]\n",
      "File \u001b[0;32m~/anaconda3/lib/python3.11/site-packages/geopandas/io/file.py:297\u001b[0m, in \u001b[0;36m_read_file\u001b[0;34m(filename, bbox, mask, rows, engine, **kwargs)\u001b[0m\n\u001b[1;32m    294\u001b[0m     \u001b[38;5;28;01melse\u001b[39;00m:\n\u001b[1;32m    295\u001b[0m         path_or_bytes \u001b[38;5;241m=\u001b[39m filename\n\u001b[0;32m--> 297\u001b[0m     \u001b[38;5;28;01mreturn\u001b[39;00m _read_file_fiona(\n\u001b[1;32m    298\u001b[0m         path_or_bytes, from_bytes, bbox\u001b[38;5;241m=\u001b[39mbbox, mask\u001b[38;5;241m=\u001b[39mmask, rows\u001b[38;5;241m=\u001b[39mrows, \u001b[38;5;241m*\u001b[39m\u001b[38;5;241m*\u001b[39mkwargs\n\u001b[1;32m    299\u001b[0m     )\n\u001b[1;32m    301\u001b[0m \u001b[38;5;28;01melse\u001b[39;00m:\n\u001b[1;32m    302\u001b[0m     \u001b[38;5;28;01mraise\u001b[39;00m \u001b[38;5;167;01mValueError\u001b[39;00m(\u001b[38;5;124mf\u001b[39m\u001b[38;5;124m\"\u001b[39m\u001b[38;5;124munknown engine \u001b[39m\u001b[38;5;124m'\u001b[39m\u001b[38;5;132;01m{\u001b[39;00mengine\u001b[38;5;132;01m}\u001b[39;00m\u001b[38;5;124m'\u001b[39m\u001b[38;5;124m\"\u001b[39m)\n",
      "File \u001b[0;32m~/anaconda3/lib/python3.11/site-packages/geopandas/io/file.py:338\u001b[0m, in \u001b[0;36m_read_file_fiona\u001b[0;34m(path_or_bytes, from_bytes, bbox, mask, rows, where, **kwargs)\u001b[0m\n\u001b[1;32m    335\u001b[0m     reader \u001b[38;5;241m=\u001b[39m fiona\u001b[38;5;241m.\u001b[39mopen\n\u001b[1;32m    337\u001b[0m \u001b[38;5;28;01mwith\u001b[39;00m fiona_env():\n\u001b[0;32m--> 338\u001b[0m     \u001b[38;5;28;01mwith\u001b[39;00m reader(path_or_bytes, \u001b[38;5;241m*\u001b[39m\u001b[38;5;241m*\u001b[39mkwargs) \u001b[38;5;28;01mas\u001b[39;00m features:\n\u001b[1;32m    339\u001b[0m         crs \u001b[38;5;241m=\u001b[39m features\u001b[38;5;241m.\u001b[39mcrs_wkt\n\u001b[1;32m    340\u001b[0m         \u001b[38;5;66;03m# attempt to get EPSG code\u001b[39;00m\n",
      "File \u001b[0;32m~/anaconda3/lib/python3.11/site-packages/fiona/env.py:457\u001b[0m, in \u001b[0;36mensure_env_with_credentials.<locals>.wrapper\u001b[0;34m(*args, **kwds)\u001b[0m\n\u001b[1;32m    454\u001b[0m     session \u001b[38;5;241m=\u001b[39m DummySession()\n\u001b[1;32m    456\u001b[0m \u001b[38;5;28;01mwith\u001b[39;00m env_ctor(session\u001b[38;5;241m=\u001b[39msession):\n\u001b[0;32m--> 457\u001b[0m     \u001b[38;5;28;01mreturn\u001b[39;00m f(\u001b[38;5;241m*\u001b[39margs, \u001b[38;5;241m*\u001b[39m\u001b[38;5;241m*\u001b[39mkwds)\n",
      "File \u001b[0;32m~/anaconda3/lib/python3.11/site-packages/fiona/__init__.py:292\u001b[0m, in \u001b[0;36mopen\u001b[0;34m(fp, mode, driver, schema, crs, encoding, layer, vfs, enabled_drivers, crs_wkt, allow_unsupported_drivers, **kwargs)\u001b[0m\n\u001b[1;32m    289\u001b[0m     path \u001b[38;5;241m=\u001b[39m parse_path(fp)\n\u001b[1;32m    291\u001b[0m \u001b[38;5;28;01mif\u001b[39;00m mode \u001b[38;5;129;01min\u001b[39;00m (\u001b[38;5;124m\"\u001b[39m\u001b[38;5;124ma\u001b[39m\u001b[38;5;124m\"\u001b[39m, \u001b[38;5;124m\"\u001b[39m\u001b[38;5;124mr\u001b[39m\u001b[38;5;124m\"\u001b[39m):\n\u001b[0;32m--> 292\u001b[0m     colxn \u001b[38;5;241m=\u001b[39m Collection(\n\u001b[1;32m    293\u001b[0m         path,\n\u001b[1;32m    294\u001b[0m         mode,\n\u001b[1;32m    295\u001b[0m         driver\u001b[38;5;241m=\u001b[39mdriver,\n\u001b[1;32m    296\u001b[0m         encoding\u001b[38;5;241m=\u001b[39mencoding,\n\u001b[1;32m    297\u001b[0m         layer\u001b[38;5;241m=\u001b[39mlayer,\n\u001b[1;32m    298\u001b[0m         enabled_drivers\u001b[38;5;241m=\u001b[39menabled_drivers,\n\u001b[1;32m    299\u001b[0m         allow_unsupported_drivers\u001b[38;5;241m=\u001b[39mallow_unsupported_drivers,\n\u001b[1;32m    300\u001b[0m         \u001b[38;5;241m*\u001b[39m\u001b[38;5;241m*\u001b[39mkwargs\n\u001b[1;32m    301\u001b[0m     )\n\u001b[1;32m    302\u001b[0m \u001b[38;5;28;01melif\u001b[39;00m mode \u001b[38;5;241m==\u001b[39m \u001b[38;5;124m\"\u001b[39m\u001b[38;5;124mw\u001b[39m\u001b[38;5;124m\"\u001b[39m:\n\u001b[1;32m    303\u001b[0m     colxn \u001b[38;5;241m=\u001b[39m Collection(\n\u001b[1;32m    304\u001b[0m         path,\n\u001b[1;32m    305\u001b[0m         mode,\n\u001b[0;32m   (...)\u001b[0m\n\u001b[1;32m    314\u001b[0m         \u001b[38;5;241m*\u001b[39m\u001b[38;5;241m*\u001b[39mkwargs\n\u001b[1;32m    315\u001b[0m     )\n",
      "File \u001b[0;32m~/anaconda3/lib/python3.11/site-packages/fiona/collection.py:243\u001b[0m, in \u001b[0;36mCollection.__init__\u001b[0;34m(self, path, mode, driver, schema, crs, encoding, layer, vsi, archive, enabled_drivers, crs_wkt, ignore_fields, ignore_geometry, include_fields, wkt_version, allow_unsupported_drivers, **kwargs)\u001b[0m\n\u001b[1;32m    241\u001b[0m \u001b[38;5;28;01mif\u001b[39;00m \u001b[38;5;28mself\u001b[39m\u001b[38;5;241m.\u001b[39mmode \u001b[38;5;241m==\u001b[39m \u001b[38;5;124m\"\u001b[39m\u001b[38;5;124mr\u001b[39m\u001b[38;5;124m\"\u001b[39m:\n\u001b[1;32m    242\u001b[0m     \u001b[38;5;28mself\u001b[39m\u001b[38;5;241m.\u001b[39msession \u001b[38;5;241m=\u001b[39m Session()\n\u001b[0;32m--> 243\u001b[0m     \u001b[38;5;28mself\u001b[39m\u001b[38;5;241m.\u001b[39msession\u001b[38;5;241m.\u001b[39mstart(\u001b[38;5;28mself\u001b[39m, \u001b[38;5;241m*\u001b[39m\u001b[38;5;241m*\u001b[39mkwargs)\n\u001b[1;32m    244\u001b[0m \u001b[38;5;28;01melif\u001b[39;00m \u001b[38;5;28mself\u001b[39m\u001b[38;5;241m.\u001b[39mmode \u001b[38;5;129;01min\u001b[39;00m (\u001b[38;5;124m\"\u001b[39m\u001b[38;5;124ma\u001b[39m\u001b[38;5;124m\"\u001b[39m, \u001b[38;5;124m\"\u001b[39m\u001b[38;5;124mw\u001b[39m\u001b[38;5;124m\"\u001b[39m):\n\u001b[1;32m    245\u001b[0m     \u001b[38;5;28mself\u001b[39m\u001b[38;5;241m.\u001b[39msession \u001b[38;5;241m=\u001b[39m WritingSession()\n",
      "File \u001b[0;32mfiona/ogrext.pyx:588\u001b[0m, in \u001b[0;36mfiona.ogrext.Session.start\u001b[0;34m()\u001b[0m\n",
      "File \u001b[0;32mfiona/ogrext.pyx:143\u001b[0m, in \u001b[0;36mfiona.ogrext.gdal_open_vector\u001b[0;34m()\u001b[0m\n",
      "\u001b[0;31mDriverError\u001b[0m: '/vsizip//Users/sarahbonnan/Desktop/ne_110m_admin_0_countries.zip' does not exist in the file system, and is not recognized as a supported dataset name."
     ]
    }
   ],
   "source": [
    "import matplotlib.pyplot as plt\n",
    "import geopandas as gpd\n",
    "\n",
    "# Load the geospatial data of countries from Natural Earth Data.\n",
    "world = gpd.read_file('/Users/sarahbonnan/Desktop/ne_110m_admin_0_countries.zip')\n",
    "\n",
    "# Filter out Nobel Peace Prize laureates\n",
    "nobel_data_without_peace = nobel_data[nobel_data['Category'] != 'Peace']\n",
    "\n",
    "# Group Nobel Prize data by born country and count the number of laureates in each country.\n",
    "born_counts = nobel_data_without_peace['Borncountry'].value_counts().reset_index()\n",
    "born_counts.columns = ['ADMIN', 'Count']  # Rename columns for merging\n",
    "\n",
    "# Merge the born_counts data with the geospatial data of countries.\n",
    "world_with_counts = world.merge(born_counts, on='ADMIN', how='left')\n",
    "\n",
    "# Plot the heatmap\n",
    "fig, ax = plt.subplots(figsize=(12, 8))  # Adjust figure size\n",
    "\n",
    "# Plot countries with laureates\n",
    "world_with_counts.plot(column='Count', cmap='Oranges', linewidth=0.8, ax=ax, edgecolor='0.8', legend=True)\n",
    "\n",
    "# Plot countries with no laureates in white\n",
    "world_with_counts[world_with_counts['Count'].isna()].plot(ax=ax, color='white', edgecolor='0.8')\n",
    "\n",
    "# Add title and labels\n",
    "plt.title('Heatmap of Nobel Laureates by Birth Country (Excluding Peace Prize)')\n",
    "plt.xlabel('Longitude')\n",
    "plt.ylabel('Latitude')\n",
    "\n",
    "# Show the plot\n",
    "plt.show()\n"
   ]
  },
  {
   "cell_type": "code",
   "execution_count": 24,
   "id": "3f6799cb-5204-4d31-af6a-f42c88be89e9",
   "metadata": {
    "tags": []
   },
   "outputs": [
    {
     "ename": "NameError",
     "evalue": "name 'nobel_world' is not defined",
     "output_type": "error",
     "traceback": [
      "\u001b[0;31m---------------------------------------------------------------------------\u001b[0m",
      "\u001b[0;31mNameError\u001b[0m                                 Traceback (most recent call last)",
      "Cell \u001b[0;32mIn[24], line 1\u001b[0m\n\u001b[0;32m----> 1\u001b[0m \u001b[38;5;28mlen\u001b[39m(nobel_world)\n",
      "\u001b[0;31mNameError\u001b[0m: name 'nobel_world' is not defined"
     ]
    }
   ],
   "source": [
    "len(nobel_world)"
   ]
  },
  {
   "cell_type": "markdown",
   "id": "b4132714-3293-4bc9-9626-8037eba6caf2",
   "metadata": {},
   "source": [
    "### Analysis of ..."
   ]
  },
  {
   "cell_type": "markdown",
   "id": "9dc4427d-925a-457e-99c0-f4ddb5eb3947",
   "metadata": {
    "tags": []
   },
   "source": [
    "#### We can check if there are countries that are particularly talented in a category and win a lot of Nobel Prizes in that same category."
   ]
  },
  {
   "cell_type": "code",
   "execution_count": 44,
   "id": "9c7452a6-3b31-465b-934d-fcbc0b29e315",
   "metadata": {},
   "outputs": [],
   "source": [
    "#This kind of diagramme is not suitable to this kind of data. Need to find something else.  "
   ]
  },
  {
   "cell_type": "code",
   "execution_count": 45,
   "id": "6ad29b73-b0d9-4a59-b1b3-199f93a6dba6",
   "metadata": {
    "tags": []
   },
   "outputs": [
    {
     "data": {
      "image/png": "[encoded data removed]",
      "text/plain": [
       "<Figure size 2000x1200 with 1 Axes>"
      ]
     },
     "metadata": {},
     "output_type": "display_data"
    }
   ],
   "source": [
    "plt.figure(figsize=(20, 12))\n",
    "\n",
    "\n",
    "plt.subplot(221)  \n",
    "sns.countplot(x='Category', data=nobel_data, order=nobel_data['Category'].value_counts().index)\n",
    "plt.title('Countries with skills in a category ')\n",
    "plt.xlabel('Category ')\n",
    "plt.ylabel('Borncountry')\n",
    "plt.xticks(rotation=45)\n",
    "\n",
    "\n",
    "plt.tight_layout()\n",
    "plt.show()"
   ]
  },
  {
   "cell_type": "markdown",
   "id": "35c7b688-99af-48ca-bb2e-1bb9c6df1673",
   "metadata": {},
   "source": [
    "#### We can compare by gender with percentage. "
   ]
  },
  {
   "cell_type": "code",
   "execution_count": 46,
   "id": "5fece772-cc02-4c65-9a00-b7ec1e28acfb",
   "metadata": {},
   "outputs": [],
   "source": [
    "#Need to fix the Y. Only %  "
   ]
  },
  {
   "cell_type": "code",
   "execution_count": 47,
   "id": "b732400e-a471-453e-972b-d9a4381c10fb",
   "metadata": {
    "tags": []
   },
   "outputs": [
    {
     "data": {
      "image/png": "[encoded data removed]",
      "text/plain": [
       "<Figure size 800x600 with 1 Axes>"
      ]
     },
     "metadata": {},
     "output_type": "display_data"
    }
   ],
   "source": [
    "#Filter the DataFrame to exclude gender values that are 'UNREPORTED'\n",
    "nobel_data_filtered = nobel_data[nobel_data['Gender'] != 'UNREPORTED']\n",
    "\n",
    "# Calculate Nobel Prize percentages by gender\n",
    "total_counts = nobel_data_filtered['Gender'].value_counts()\n",
    "percentages = total_counts / total_counts.sum() * 100\n",
    "\n",
    "# Create a countplot to compare the percentage of Nobel Prize winners by gender\n",
    "plt.figure(figsize=(8, 6))\n",
    "sns.countplot(x='Gender', data=nobel_data_filtered, palette='husl', order=percentages.index)\n",
    "\n",
    "# Add percentages above each bar\n",
    "for i, p in enumerate(percentages):\n",
    "    plt.text(i, p + 0.5, f'{p:.2f}%', ha='center')\n",
    "\n",
    "# Add titles and labels\n",
    "plt.title('Nobel Prize percentages by gender')\n",
    "plt.xlabel('Gender')\n",
    "plt.ylabel('Nobel Prize percentages')\n",
    "\n",
    "# Afficher le graphique\n",
    "plt.show()\n"
   ]
  },
  {
   "cell_type": "code",
   "execution_count": 48,
   "id": "df92fd25-2d29-4546-80cc-40ed0008d4b1",
   "metadata": {
    "tags": []
   },
   "outputs": [],
   "source": [
    "#Repeat the same thing after the years where universal suffrage was applied (right to vote for women) in the majority of countries around the world.\n",
    "#Review data from the 1980s. from 2000s. "
   ]
  },
  {
   "cell_type": "markdown",
   "id": "443d6aa2-7cb6-4850-b3c1-692b5b95eaa5",
   "metadata": {},
   "source": [
    "Pour visualiser le lien entre l'évolution temporelle des prix Nobel et des événements historiques mondiaux, vous pouvez utiliser un graphique linéaire superposé avec des marqueurs pour marquer les événements historiques. Voici comment vous pouvez procéder :\n",
    "\n",
    "Préparez vos données en regroupant les prix Nobel par année et en identifiant les événements historiques importants pour chaque année.\n",
    "Tracez un graphique linéaire pour montrer l'évolution temporelle des prix Nobel au fil des ans.\n",
    "Ajoutez des marqueurs pour les événements historiques sur le graphique pour mettre en évidence les relations potentielles.\n",
    "Voici un exemple de code pour réaliser cela "
   ]
  },
  {
   "cell_type": "code",
   "execution_count": null,
   "id": "8af06351-309f-4c92-b6be-8ade99616cb8",
   "metadata": {},
   "outputs": [],
   "source": []
  },
  {
   "cell_type": "code",
   "execution_count": null,
   "id": "dc642f62-487d-4e46-8403-fd15c6480215",
   "metadata": {},
   "outputs": [],
   "source": []
  }
 ],
 "metadata": {
  "kernelspec": {
   "display_name": "Python 3 (ipykernel)",
   "language": "python",
   "name": "python3"
  },
  "language_info": {
   "codemirror_mode": {
    "name": "ipython",
    "version": 3
   },
   "file_extension": ".py",
   "mimetype": "text/x-python",
   "name": "python",
   "nbconvert_exporter": "python",
   "pygments_lexer": "ipython3",
   "version": "3.11.5"
  }
 },
 "nbformat": 4,
 "nbformat_minor": 5
}
